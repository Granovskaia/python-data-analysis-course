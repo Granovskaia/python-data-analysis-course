{
  "cells": [
    {
      "cell_type": "markdown",
      "metadata": {
        "id": "header-section"
      },
      "source": [
        "# Python Data Structures Minor Assignment\n",
        "\n",
        "## Week 1, Day 2 (Thursday) - April 10th, 2025\n",
        "\n",
        "### Overview\n",
        "In this assignment, you'll apply your knowledge of Python data structures to perform data analysis on sample e-commerce data. You'll work with lists, dictionaries, tuples, and sets to extract meaningful insights from the data.\n",
        "\n",
        "### Instructions\n",
        "1. Complete all tasks in this notebook\n",
        "2. Run all cells to verify your solutions\n",
        "3. Save a copy to your Google Drive\n",
        "4. Submit your completed notebook by the end of the day\n",
        "\n",
        "### Grading Criteria\n",
        "- Code correctness: 60%\n",
        "- Code efficiency and approach: 25%\n",
        "- Comments and code organization: 15%\n",
        "\n",
        "### Dataset Description\n",
        "You'll be working with a small dataset representing orders from an e-commerce platform. The data includes customer information, order details, products, and reviews."
      ]
    },
    {
      "cell_type": "markdown",
      "metadata": {
        "id": "dataset-section"
      },
      "source": [
        "## Dataset\n",
        "\n",
        "The following code cells contain the data you'll be working with. Run these cells first."
      ]
    },
    {
      "cell_type": "code",
      "execution_count": 3,
      "metadata": {
        "id": "customer-data"
      },
      "outputs": [],
      "source": [
        "# Customer data: Dictionary mapping customer_id to customer information\n",
        "customers = {\n",
        "    \"C001\": {\"name\": \"Maria Silva\", \"city\": \"Sao Paulo\", \"is_prime\": True, \"registration_date\": \"2024-01-15\"},\n",
        "    \"C002\": {\"name\": \"Joao Santos\", \"city\": \"Rio de Janeiro\", \"is_prime\": False, \"registration_date\": \"2024-02-20\"},\n",
        "    \"C003\": {\"name\": \"Ana Oliveira\", \"city\": \"Belo Horizonte\", \"is_prime\": True, \"registration_date\": \"2024-01-10\"},\n",
        "    \"C004\": {\"name\": \"Carlos Lima\", \"city\": \"Brasilia\", \"is_prime\": True, \"registration_date\": \"2024-03-05\"},\n",
        "    \"C005\": {\"name\": \"Julia Costa\", \"city\": \"Salvador\", \"is_prime\": False, \"registration_date\": \"2024-02-28\"},\n",
        "    \"C006\": {\"name\": \"Pedro Souza\", \"city\": \"Curitiba\", \"is_prime\": True, \"registration_date\": \"2024-01-25\"},\n",
        "    \"C007\": {\"name\": \"Fernanda Alves\", \"city\": \"Sao Paulo\", \"is_prime\": False, \"registration_date\": \"2024-03-15\"}\n",
        "}"
      ]
    },
    {
      "cell_type": "code",
      "execution_count": 4,
      "metadata": {
        "id": "product-data"
      },
      "outputs": [],
      "source": [
        "# Product data: Dictionary mapping product_id to product information\n",
        "products = {\n",
        "    \"P101\": {\"name\": \"Smartphone X\", \"category\": \"Electronics\", \"price\": 999.99, \"weight_kg\": 0.2},\n",
        "    \"P102\": {\"name\": \"Laptop Pro\", \"category\": \"Electronics\", \"price\": 1299.99, \"weight_kg\": 1.5},\n",
        "    \"P103\": {\"name\": \"Coffee Maker\", \"category\": \"Home Appliances\", \"price\": 89.99, \"weight_kg\": 3.0},\n",
        "    \"P104\": {\"name\": \"Wireless Headphones\", \"category\": \"Electronics\", \"price\": 159.99, \"weight_kg\": 0.25},\n",
        "    \"P105\": {\"name\": \"Fitness Tracker\", \"category\": \"Electronics\", \"price\": 79.99, \"weight_kg\": 0.05},\n",
        "    \"P106\": {\"name\": \"Blender\", \"category\": \"Home Appliances\", \"price\": 49.99, \"weight_kg\": 2.0},\n",
        "    \"P107\": {\"name\": \"Desk Chair\", \"category\": \"Furniture\", \"price\": 149.99, \"weight_kg\": 7.5},\n",
        "    \"P108\": {\"name\": \"Bookshelf\", \"category\": \"Furniture\", \"price\": 199.99, \"weight_kg\": 25.0},\n",
        "    \"P109\": {\"name\": \"Smart Watch\", \"category\": \"Electronics\", \"price\": 249.99, \"weight_kg\": 0.1},\n",
        "    \"P110\": {\"name\": \"Toaster\", \"category\": \"Home Appliances\", \"price\": 29.99, \"weight_kg\": 1.2}\n",
        "}"
      ]
    },
    {
      "cell_type": "code",
      "execution_count": 5,
      "metadata": {
        "id": "order-data"
      },
      "outputs": [],
      "source": [
        "# Order data: List of dictionaries with order information\n",
        "orders = [\n",
        "    {\"order_id\": \"O1001\", \"customer_id\": \"C001\", \"date\": \"2025-01-15\", \"status\": \"delivered\", \"items\": [(\"P101\", 1), (\"P104\", 1)]},\n",
        "    {\"order_id\": \"O1002\", \"customer_id\": \"C002\", \"date\": \"2025-01-16\", \"status\": \"delivered\", \"items\": [(\"P103\", 1)]},\n",
        "    {\"order_id\": \"O1003\", \"customer_id\": \"C001\", \"date\": \"2025-01-20\", \"status\": \"delivered\", \"items\": [(\"P105\", 1), (\"P106\", 1)]},\n",
        "    {\"order_id\": \"O1004\", \"customer_id\": \"C003\", \"date\": \"2025-01-25\", \"status\": \"delivered\", \"items\": [(\"P102\", 1)]},\n",
        "    {\"order_id\": \"O1005\", \"customer_id\": \"C004\", \"date\": \"2025-01-30\", \"status\": \"delivered\", \"items\": [(\"P109\", 1)]},\n",
        "    {\"order_id\": \"O1006\", \"customer_id\": \"C005\", \"date\": \"2025-02-05\", \"status\": \"in_transit\", \"items\": [(\"P107\", 1)]},\n",
        "    {\"order_id\": \"O1007\", \"customer_id\": \"C002\", \"date\": \"2025-02-10\", \"status\": \"delivered\", \"items\": [(\"P101\", 1), (\"P105\", 1)]},\n",
        "    {\"order_id\": \"O1008\", \"customer_id\": \"C006\", \"date\": \"2025-02-15\", \"status\": \"delivered\", \"items\": [(\"P108\", 1)]},\n",
        "    {\"order_id\": \"O1009\", \"customer_id\": \"C001\", \"date\": \"2025-02-20\", \"status\": \"delivered\", \"items\": [(\"P102\", 1)]},\n",
        "    {\"order_id\": \"O1010\", \"customer_id\": \"C003\", \"date\": \"2025-02-25\", \"status\": \"processing\", \"items\": [(\"P110\", 2), (\"P106\", 1)]},\n",
        "    {\"order_id\": \"O1011\", \"customer_id\": \"C007\", \"date\": \"2025-03-01\", \"status\": \"delivered\", \"items\": [(\"P104\", 1)]},\n",
        "    {\"order_id\": \"O1012\", \"customer_id\": \"C004\", \"date\": \"2025-03-05\", \"status\": \"in_transit\", \"items\": [(\"P103\", 1), (\"P110\", 1)]},\n",
        "    {\"order_id\": \"O1013\", \"customer_id\": \"C001\", \"date\": \"2025-03-10\", \"status\": \"delivered\", \"items\": [(\"P109\", 1)]},\n",
        "    {\"order_id\": \"O1014\", \"customer_id\": \"C006\", \"date\": \"2025-03-15\", \"status\": \"processing\", \"items\": [(\"P101\", 1), (\"P109\", 1)]},\n",
        "    {\"order_id\": \"O1015\", \"customer_id\": \"C002\", \"date\": \"2025-03-20\", \"status\": \"delivered\", \"items\": [(\"P107\", 1)]}\n",
        "]"
      ]
    },
    {
      "cell_type": "code",
      "execution_count": 6,
      "metadata": {
        "id": "reviews-data"
      },
      "outputs": [],
      "source": [
        "# Review data: List of dictionaries with product review information\n",
        "reviews = [\n",
        "    {\"review_id\": \"R001\", \"order_id\": \"O1001\", \"product_id\": \"P101\", \"rating\": 5, \"comment\": \"Great smartphone, very fast\"},\n",
        "    {\"review_id\": \"R002\", \"order_id\": \"O1001\", \"product_id\": \"P104\", \"rating\": 4, \"comment\": \"Good sound quality, comfortable\"},\n",
        "    {\"review_id\": \"R003\", \"order_id\": \"O1002\", \"product_id\": \"P103\", \"rating\": 3, \"comment\": \"Makes good coffee but a bit noisy\"},\n",
        "    {\"review_id\": \"R004\", \"order_id\": \"O1003\", \"product_id\": \"P105\", \"rating\": 5, \"comment\": \"Accurate tracking, good battery life\"},\n",
        "    {\"review_id\": \"R005\", \"order_id\": \"O1004\", \"product_id\": \"P102\", \"rating\": 4, \"comment\": \"Fast laptop, good display\"},\n",
        "    {\"review_id\": \"R006\", \"order_id\": \"O1005\", \"product_id\": \"P109\", \"rating\": 5, \"comment\": \"Love the features, great battery\"},\n",
        "    {\"review_id\": \"R007\", \"order_id\": \"O1007\", \"product_id\": \"P101\", \"rating\": 4, \"comment\": \"Good phone, camera could be better\"},\n",
        "    {\"review_id\": \"R008\", \"order_id\": \"O1008\", \"product_id\": \"P108\", \"rating\": 2, \"comment\": \"Difficult to assemble, not sturdy\"},\n",
        "    {\"review_id\": \"R009\", \"order_id\": \"O1009\", \"product_id\": \"P102\", \"rating\": 5, \"comment\": \"Excellent performance, recommend\"},\n",
        "    {\"review_id\": \"R010\", \"order_id\": \"O1011\", \"product_id\": \"P104\", \"rating\": 3, \"comment\": \"Decent headphones for the price\"},\n",
        "    {\"review_id\": \"R011\", \"order_id\": \"O1013\", \"product_id\": \"P109\", \"rating\": 4, \"comment\": \"Good smartwatch, many features\"}\n",
        "]"
      ]
    },
    {
      "cell_type": "markdown",
      "metadata": {
        "id": "task-1"
      },
      "source": [
        "## Task 1: Basic Data Exploration (15 points)\n",
        "\n",
        "Write code to answer the following questions about the dataset:\n",
        "\n",
        "1. How many customers, products, orders, and reviews are in the dataset?\n",
        "2. What are the unique product categories?\n",
        "3. How many orders are in each status (delivered, in_transit, processing)?\n",
        "4. What percentage of customers are prime members?\n",
        "5. What is the average rating across all reviews?"
      ]
    },
    {
      "cell_type": "code",
      "execution_count": 7,
      "metadata": {
        "id": "task-1-solution",
        "outputId": "81e14dc6-0621-4549-88e7-58924c95fe35",
        "colab": {
          "base_uri": "https://localhost:8080/"
        }
      },
      "outputs": [
        {
          "output_type": "stream",
          "name": "stdout",
          "text": [
            "Number of customers: 7\n",
            "Number of products: 10\n",
            "Number of orders: 15\n",
            "Number of reviews: 11\n",
            "\n",
            "Unique product categories: {'Furniture', 'Home Appliances', 'Electronics'}\n",
            "\n",
            "Orders by status:\n",
            "delivered: 11\n",
            "in_transit: 2\n",
            "processing: 2\n",
            "\n",
            "Percentage of prime customers: 57.14%\n",
            "\n",
            "Average rating across all reviews: 4.00\n"
          ]
        }
      ],
      "source": [
        "# Your solution for Task 1\n",
        "\n",
        "# 1. Count of customers, products, orders, and reviews\n",
        "num_customers = len(customers)\n",
        "num_products = len(products)\n",
        "num_orders = len(orders)\n",
        "num_reviews = len(reviews)\n",
        "print(f\"Number of customers: {num_customers}\")\n",
        "print(f\"Number of products: {num_products}\")\n",
        "print(f\"Number of orders: {num_orders}\")\n",
        "print(f\"Number of reviews: {num_reviews}\")\n",
        "\n",
        "# 2. Unique product categories\n",
        "unique_categories = set(product[\"category\"] for product in products.values())\n",
        "print(f\"\\nUnique product categories: {unique_categories}\")\n",
        "\n",
        "# 3. Orders by status\n",
        "status_counts = {}\n",
        "for order in orders:\n",
        "    status = order[\"status\"]\n",
        "    status_counts[status] = status_counts.get(status, 0) + 1\n",
        "print(\"\\nOrders by status:\")\n",
        "for status, count in status_counts.items():\n",
        "    print(f\"{status}: {count}\")\n",
        "\n",
        "# 4. Percentage of prime customers\n",
        "prime_count = sum(1 for customer in customers.values() if customer[\"is_prime\"])\n",
        "prime_percentage = (prime_count / num_customers) * 100\n",
        "print(f\"\\nPercentage of prime customers: {prime_percentage:.2f}%\")\n",
        "\n",
        "# 5. Average rating across all reviews\n",
        "total_rating = sum(review[\"rating\"] for review in reviews)\n",
        "average_rating = total_rating / num_reviews\n",
        "print(f\"\\nAverage rating across all reviews: {average_rating:.2f}\")"
      ]
    },
    {
      "cell_type": "markdown",
      "metadata": {
        "id": "task-2"
      },
      "source": [
        "## Task 2: Order Analysis (20 points)\n",
        "\n",
        "Perform analysis on the order data:\n",
        "\n",
        "1. Calculate the total revenue from all orders\n",
        "2. Find the most expensive order (by total cost) and identify the customer who placed it\n",
        "3. Calculate the average number of items per order\n",
        "4. Find the top 3 best-selling products (by quantity)\n",
        "5. Calculate the total revenue by product category\n",
        "\n",
        "Note: To calculate the cost of an order, multiply the quantity of each product by its price and sum them up."
      ]
    },
    {
      "cell_type": "code",
      "source": [
        "# 1. Calculate total revenue from all orders\n",
        "total_revenue = 0\n",
        "for order in orders:\n",
        "    order_total = 0\n",
        "    for product_id, quantity in order[\"items\"]:\n",
        "        order_total += products[product_id][\"price\"] * quantity\n",
        "    total_revenue += order_total\n",
        "print(f\"Total revenue from all orders: ${total_revenue:.2f}\")\n",
        "\n",
        "# 2. Find the most expensive order and its customer\n",
        "most_expensive_order = None\n",
        "max_cost = 0\n",
        "most_expensive_customer = None\n",
        "\n",
        "for order in orders:\n",
        "    order_total = sum(products[product_id][\"price\"] * quantity for product_id, quantity in order[\"items\"])\n",
        "    if order_total > max_cost:\n",
        "        max_cost = order_total\n",
        "        most_expensive_order = order\n",
        "        most_expensive_customer = customers[order[\"customer_id\"]][\"name\"]\n",
        "\n",
        "print(f\"\\nMost expensive order: {most_expensive_order['order_id']} with total cost ${max_cost:.2f}\")\n",
        "print(f\"Placed by: {most_expensive_customer}\")\n",
        "\n",
        "# 3. Calculate average number of items per order\n",
        "total_items = sum(len(order[\"items\"]) for order in orders)\n",
        "avg_items_per_order = total_items / len(orders)\n",
        "print(f\"\\nAverage number of items per order: {avg_items_per_order:.2f}\")\n",
        "\n",
        "# 4. Find top 3 best-selling products by quantity\n",
        "product_quantities = {}\n",
        "for order in orders:\n",
        "    for product_id, quantity in order[\"items\"]:\n",
        "        product_quantities[product_id] = product_quantities.get(product_id, 0) + quantity\n",
        "\n",
        "# Sort products by quantity and get top 3\n",
        "top_products = sorted(product_quantities.items(), key=lambda x: x[1], reverse=True)[:3]\n",
        "print(\"\\nTop 3 best-selling products (by quantity):\")\n",
        "for product_id, quantity in top_products:\n",
        "    product_name = products[product_id][\"name\"]\n",
        "    print(f\"{product_name} ({product_id}): {quantity} units\")\n",
        "\n",
        "# 5. Calculate total revenue by product category\n",
        "category_revenue = {}\n",
        "for order in orders:\n",
        "    for product_id, quantity in order[\"items\"]:\n",
        "        category = products[product_id][\"category\"]\n",
        "        revenue = products[product_id][\"price\"] * quantity\n",
        "        category_revenue[category] = category_revenue.get(category, 0) + revenue\n",
        "\n",
        "print(\"\\nTotal revenue by product category:\")\n",
        "for category, revenue in category_revenue.items():\n",
        "    print(f\"{category}: ${revenue:.2f}\")"
      ],
      "metadata": {
        "id": "Pl9Otfb8-_gn",
        "outputId": "066df8dd-4dcf-460f-aacd-73f13dc7bbee",
        "colab": {
          "base_uri": "https://localhost:8080/"
        }
      },
      "execution_count": 8,
      "outputs": [
        {
          "output_type": "stream",
          "name": "stdout",
          "text": [
            "Total revenue from all orders: $7699.78\n",
            "\n",
            "Most expensive order: O1004 with total cost $1299.99\n",
            "Placed by: Ana Oliveira\n",
            "\n",
            "Average number of items per order: 1.40\n",
            "\n",
            "Top 3 best-selling products (by quantity):\n",
            "Smartphone X (P101): 3 units\n",
            "Smart Watch (P109): 3 units\n",
            "Toaster (P110): 3 units\n",
            "\n",
            "Total revenue by product category:\n",
            "Electronics: $6829.88\n",
            "Home Appliances: $369.93\n",
            "Furniture: $499.97\n"
          ]
        }
      ]
    },
    {
      "cell_type": "markdown",
      "metadata": {
        "id": "task-3"
      },
      "source": [
        "## Task 3: Customer Behavior Analysis (25 points)\n",
        "\n",
        "Analyze customer behavior and purchasing patterns:\n",
        "\n",
        "1. Create a dictionary mapping each customer to their total spending\n",
        "2. Find the top customer by total spending\n",
        "3. Compare the average order value of prime vs non-prime customers\n",
        "4. Create a dictionary mapping each customer to the list of unique product categories they purchased from\n",
        "5. Find the customer who has purchased from the most diverse set of product categories"
      ]
    },
    {
      "cell_type": "code",
      "source": [
        "# 1. Create a dictionary mapping each customer to their total spending\n",
        "customer_spending = {customer_id: 0 for customer_id in customers}\n",
        "for order in orders:\n",
        "    customer_id = order[\"customer_id\"]\n",
        "    order_total = sum(products[product_id][\"price\"] * quantity for product_id, quantity in order[\"items\"])\n",
        "    customer_spending[customer_id] += order_total\n",
        "\n",
        "print(\"Customer total spending:\")\n",
        "for customer_id, spending in customer_spending.items():\n",
        "    customer_name = customers[customer_id][\"name\"]\n",
        "    print(f\"{customer_name} ({customer_id}): ${spending:.2f}\")\n",
        "\n",
        "# 2. Find the top customer by total spending\n",
        "top_customer_id = max(customer_spending, key=customer_spending.get)\n",
        "top_customer_name = customers[top_customer_id][\"name\"]\n",
        "top_spending = customer_spending[top_customer_id]\n",
        "print(f\"\\nTop customer by spending: {top_customer_name} ({top_customer_id}) with ${top_spending:.2f}\")\n",
        "\n",
        "# 3. Compare average order value of prime vs non-prime customers\n",
        "prime_orders = []\n",
        "non_prime_orders = []\n",
        "for order in orders:\n",
        "    customer_id = order[\"customer_id\"]\n",
        "    order_total = sum(products[product_id][\"price\"] * quantity for product_id, quantity in order[\"items\"])\n",
        "    if customers[customer_id][\"is_prime\"]:\n",
        "        prime_orders.append(order_total)\n",
        "    else:\n",
        "        non_prime_orders.append(order_total)\n",
        "\n",
        "avg_prime_order = sum(prime_orders) / len(prime_orders) if prime_orders else 0\n",
        "avg_non_prime_order = sum(non_prime_orders) / len(non_prime_orders) if non_prime_orders else 0\n",
        "print(f\"\\nAverage order value for prime customers: ${avg_prime_order:.2f}\")\n",
        "print(f\"Average order value for non-prime customers: ${avg_non_prime_order:.2f}\")\n",
        "\n",
        "# 4. Create a dictionary mapping each customer to unique product categories purchased\n",
        "customer_categories = {customer_id: set() for customer_id in customers}\n",
        "for order in orders:\n",
        "    customer_id = order[\"customer_id\"]\n",
        "    for product_id, _ in order[\"items\"]:\n",
        "        category = products[product_id][\"category\"]\n",
        "        customer_categories[customer_id].add(category)\n",
        "\n",
        "print(\"\\nCustomer unique product categories:\")\n",
        "for customer_id, categories in customer_categories.items():\n",
        "    customer_name = customers[customer_id][\"name\"]\n",
        "    print(f\"{customer_name} ({customer_id}): {categories}\")\n",
        "\n",
        "# 5. Find the customer who purchased from the most diverse set of product categories\n",
        "most_diverse_customer_id = max(customer_categories, key=lambda x: len(customer_categories[x]))\n",
        "most_diverse_customer_name = customers[most_diverse_customer_id][\"name\"]\n",
        "diverse_categories = customer_categories[most_diverse_customer_id]\n",
        "print(f\"\\nCustomer with most diverse categories: {most_diverse_customer_name} ({most_diverse_customer_id})\")\n",
        "print(f\"Purchased from: {diverse_categories}\")"
      ],
      "metadata": {
        "id": "8fDAMrje_e29",
        "outputId": "f84d9892-4e73-4911-98f6-21f556257a20",
        "colab": {
          "base_uri": "https://localhost:8080/"
        }
      },
      "execution_count": 9,
      "outputs": [
        {
          "output_type": "stream",
          "name": "stdout",
          "text": [
            "Customer total spending:\n",
            "Maria Silva (C001): $2839.94\n",
            "Joao Santos (C002): $1319.96\n",
            "Ana Oliveira (C003): $1409.96\n",
            "Carlos Lima (C004): $369.97\n",
            "Julia Costa (C005): $149.99\n",
            "Pedro Souza (C006): $1449.97\n",
            "Fernanda Alves (C007): $159.99\n",
            "\n",
            "Top customer by spending: Maria Silva (C001) with $2839.94\n",
            "\n",
            "Average order value for prime customers: $606.98\n",
            "Average order value for non-prime customers: $325.99\n",
            "\n",
            "Customer unique product categories:\n",
            "Maria Silva (C001): {'Home Appliances', 'Electronics'}\n",
            "Joao Santos (C002): {'Furniture', 'Home Appliances', 'Electronics'}\n",
            "Ana Oliveira (C003): {'Home Appliances', 'Electronics'}\n",
            "Carlos Lima (C004): {'Home Appliances', 'Electronics'}\n",
            "Julia Costa (C005): {'Furniture'}\n",
            "Pedro Souza (C006): {'Furniture', 'Electronics'}\n",
            "Fernanda Alves (C007): {'Electronics'}\n",
            "\n",
            "Customer with most diverse categories: Joao Santos (C002)\n",
            "Purchased from: {'Furniture', 'Home Appliances', 'Electronics'}\n"
          ]
        }
      ]
    },
    {
      "cell_type": "markdown",
      "metadata": {
        "id": "task-4"
      },
      "source": [
        "## Task 4: Product Analysis (20 points)\n",
        "\n",
        "Perform analysis on products and their reviews:\n",
        "\n",
        "1. Calculate the average rating for each product\n",
        "2. Find the product with the highest average rating\n",
        "3. Find the product with the lowest average rating\n",
        "4. Create a dictionary mapping each product to all of its review comments\n",
        "5. Calculate the correlation between product price and average rating (do more expensive products have higher ratings?)\n",
        "\n",
        "Hint for correlation:\n",
        "- Calculate the average rating for each product\n",
        "- Create two lists: one for prices and one for corresponding average ratings\n",
        "- If the expensive products tend to have higher ratings, the correlation will be positive"
      ]
    },
    {
      "cell_type": "code",
      "source": [
        "import statistics\n",
        "\n",
        "# 1. Calculate the average rating for each product\n",
        "product_ratings = {}\n",
        "for review in reviews:\n",
        "    product_id = review[\"product_id\"]\n",
        "    rating = review[\"rating\"]\n",
        "    if product_id not in product_ratings:\n",
        "        product_ratings[product_id] = []\n",
        "    product_ratings[product_id].append(rating)\n",
        "\n",
        "product_avg_ratings = {\n",
        "    product_id: sum(ratings) / len(ratings) if ratings else 0\n",
        "    for product_id, ratings in product_ratings.items()\n",
        "}\n",
        "\n",
        "print(\"Average rating for each product:\")\n",
        "for product_id, avg_rating in product_avg_ratings.items():\n",
        "    product_name = products[product_id][\"name\"]\n",
        "    print(f\"{product_name} ({product_id}): {avg_rating:.2f}\")\n",
        "\n",
        "# 2. Find the product with the highest average rating\n",
        "highest_rated_product_id = max(product_avg_ratings, key=product_avg_ratings.get)\n",
        "highest_rated_product_name = products[highest_rated_product_id][\"name\"]\n",
        "highest_rating = product_avg_ratings[highest_rated_product_id]\n",
        "print(f\"\\nProduct with highest average rating: {highest_rated_product_name} ({highest_rated_product_id}) with {highest_rating:.2f}\")\n",
        "\n",
        "# 3. Find the product with the lowest average rating\n",
        "lowest_rated_product_id = min(product_avg_ratings, key=product_avg_ratings.get)\n",
        "lowest_rated_product_name = products[lowest_rated_product_id][\"name\"]\n",
        "lowest_rating = product_avg_ratings[lowest_rated_product_id]\n",
        "print(f\"Product with lowest average rating: {lowest_rated_product_name} ({lowest_rated_product_id}) with {lowest_rating:.2f}\")\n",
        "\n",
        "# 4. Create a dictionary mapping each product to all of its review comments\n",
        "product_comments = {product_id: [] for product_id in products}\n",
        "for review in reviews:\n",
        "    product_id = review[\"product_id\"]\n",
        "    comment = review[\"comment\"]\n",
        "    product_comments[product_id].append(comment)\n",
        "\n",
        "print(\"\\nProduct review comments:\")\n",
        "for product_id, comments in product_comments.items():\n",
        "    product_name = products[product_id][\"name\"]\n",
        "    if comments:  # Only print products with comments\n",
        "        print(f\"{product_name} ({product_id}): {comments}\")\n",
        "\n",
        "# 5. Calculate the correlation between product price and average rating\n",
        "prices = []\n",
        "avg_ratings = []\n",
        "for product_id in product_avg_ratings:\n",
        "    prices.append(products[product_id][\"price\"])\n",
        "    avg_ratings.append(product_avg_ratings[product_id])\n",
        "\n",
        "# Calculate Pearson correlation coefficient\n",
        "if len(prices) > 1:\n",
        "    correlation = statistics.correlation(prices, avg_ratings)\n",
        "    print(f\"\\nCorrelation between product price and average rating: {correlation:.2f}\")\n",
        "else:\n",
        "    print(\"\\nNot enough data to calculate correlation\")"
      ],
      "metadata": {
        "id": "XZCGnFBK_uZs",
        "outputId": "f037a9a9-079f-4334-c5fc-17668e4669c7",
        "colab": {
          "base_uri": "https://localhost:8080/"
        }
      },
      "execution_count": 10,
      "outputs": [
        {
          "output_type": "stream",
          "name": "stdout",
          "text": [
            "Average rating for each product:\n",
            "Smartphone X (P101): 4.50\n",
            "Wireless Headphones (P104): 3.50\n",
            "Coffee Maker (P103): 3.00\n",
            "Fitness Tracker (P105): 5.00\n",
            "Laptop Pro (P102): 4.50\n",
            "Smart Watch (P109): 4.50\n",
            "Bookshelf (P108): 2.00\n",
            "\n",
            "Product with highest average rating: Fitness Tracker (P105) with 5.00\n",
            "Product with lowest average rating: Bookshelf (P108) with 2.00\n",
            "\n",
            "Product review comments:\n",
            "Smartphone X (P101): ['Great smartphone, very fast', 'Good phone, camera could be better']\n",
            "Laptop Pro (P102): ['Fast laptop, good display', 'Excellent performance, recommend']\n",
            "Coffee Maker (P103): ['Makes good coffee but a bit noisy']\n",
            "Wireless Headphones (P104): ['Good sound quality, comfortable', 'Decent headphones for the price']\n",
            "Fitness Tracker (P105): ['Accurate tracking, good battery life']\n",
            "Bookshelf (P108): ['Difficult to assemble, not sturdy']\n",
            "Smart Watch (P109): ['Love the features, great battery', 'Good smartwatch, many features']\n",
            "\n",
            "Correlation between product price and average rating: 0.38\n"
          ]
        }
      ]
    },
    {
      "cell_type": "markdown",
      "metadata": {
        "id": "task-5"
      },
      "source": [
        "## Task 5: Time-Based Analysis (20 points)\n",
        "\n",
        "Analyze ordering patterns over time:\n",
        "\n",
        "1. Group orders by month and calculate total revenue per month\n",
        "2. Find the most popular product (by quantity sold) for each month\n",
        "3. Calculate the average order value trend over time (is it increasing, decreasing, or stable?)\n",
        "4. Find all customers who placed at least one order in each month\n",
        "5. Calculate the percentage of orders that have received reviews\n",
        "\n",
        "Hint: Use the date field in the orders to determine the month. You can use `order_date.split('-')[1]` to extract the month."
      ]
    },
    {
      "cell_type": "code",
      "source": [
        "from collections import defaultdict\n",
        "from statistics import mean\n",
        "\n",
        "# Helper function to extract month from date\n",
        "def get_month(order_date):\n",
        "    return order_date.split('-')[1]\n",
        "\n",
        "# 1. Group orders by month and calculate total revenue per month\n",
        "monthly_revenue = defaultdict(float)\n",
        "for order in orders:\n",
        "    month = get_month(order[\"date\"])\n",
        "    order_total = sum(products[product_id][\"price\"] * quantity for product_id, quantity in order[\"items\"])\n",
        "    monthly_revenue[month] += order_total\n",
        "\n",
        "print(\"Total revenue per month:\")\n",
        "for month, revenue in sorted(monthly_revenue.items()):\n",
        "    print(f\"Month {month}: ${revenue:.2f}\")\n",
        "\n",
        "# 2. Find the most popular product (by quantity sold) for each month\n",
        "monthly_product_quantities = defaultdict(lambda: defaultdict(int))\n",
        "for order in orders:\n",
        "    month = get_month(order[\"date\"])\n",
        "    for product_id, quantity in order[\"items\"]:\n",
        "        monthly_product_quantities[month][product_id] += quantity\n",
        "\n",
        "print(\"\\nMost popular product per month:\")\n",
        "for month in sorted(monthly_product_quantities):\n",
        "    product_quantities = monthly_product_quantities[month]\n",
        "    most_popular_product_id = max(product_quantities, key=product_quantities.get)\n",
        "    quantity = product_quantities[most_popular_product_id]\n",
        "    product_name = products[most_popular_product_id][\"name\"]\n",
        "    print(f\"Month {month}: {product_name} ({most_popular_product_id}) with {quantity} units\")\n",
        "\n",
        "# 3. Calculate the average order value trend over time\n",
        "monthly_order_values = defaultdict(list)\n",
        "for order in orders:\n",
        "    month = get_month(order[\"date\"])\n",
        "    order_total = sum(products[product_id][\"price\"] * quantity for product_id, quantity in order[\"items\"])\n",
        "    monthly_order_values[month].append(order_total)\n",
        "\n",
        "avg_order_values = {\n",
        "    month: mean(values) for month, values in sorted(monthly_order_values.items())\n",
        "}\n",
        "\n",
        "print(\"\\nAverage order value per month:\")\n",
        "trend = []\n",
        "for month, avg_value in avg_order_values.items():\n",
        "    print(f\"Month {month}: ${avg_value:.2f}\")\n",
        "    trend.append(avg_value)\n",
        "\n",
        "# Analyze trend\n",
        "if len(trend) > 1:\n",
        "    trend_changes = [trend[i + 1] - trend[i] for i in range(len(trend) - 1)]\n",
        "    if all(change > 0 for change in trend_changes):\n",
        "        trend_status = \"increasing\"\n",
        "    elif all(change < 0 for change in trend_changes):\n",
        "        trend_status = \"decreasing\"\n",
        "    else:\n",
        "        trend_status = \"stable\"\n",
        "    print(f\"Trend: {trend_status}\")\n",
        "else:\n",
        "    print(\"Not enough data to determine trend\")\n",
        "\n",
        "# 4. Find customers who placed at least one order in each month\n",
        "customer_months = defaultdict(set)\n",
        "for order in orders:\n",
        "    month = get_month(order[\"date\"])\n",
        "    customer_id = order[\"customer_id\"]\n",
        "    customer_months[customer_id].add(month)\n",
        "\n",
        "all_months = set(monthly_revenue.keys())\n",
        "consistent_customers = [\n",
        "    customer_id for customer_id, months in customer_months.items()\n",
        "    if months == all_months\n",
        "]\n",
        "\n",
        "print(\"\\nCustomers who ordered in every month:\")\n",
        "if consistent_customers:\n",
        "    for customer_id in consistent_customers:\n",
        "        customer_name = customers[customer_id][\"name\"]\n",
        "        print(f\"{customer_name} ({customer_id})\")\n",
        "else:\n",
        "    print(\"No customers ordered in every month\")\n",
        "\n",
        "# 5. Calculate the percentage of orders that have received reviews\n",
        "orders_with_reviews = set(review[\"order_id\"] for review in reviews)\n",
        "total_orders = len(orders)\n",
        "orders_reviewed = len(orders_with_reviews)\n",
        "review_percentage = (orders_reviewed / total_orders) * 100\n",
        "print(f\"\\nPercentage of orders with reviews: {review_percentage:.2f}%\")"
      ],
      "metadata": {
        "id": "UKRo1W3TABOZ",
        "outputId": "8f9afd1f-c921-4c2f-d5bc-7551e27e2547",
        "colab": {
          "base_uri": "https://localhost:8080/"
        }
      },
      "execution_count": 11,
      "outputs": [
        {
          "output_type": "stream",
          "name": "stdout",
          "text": [
            "Total revenue per month:\n",
            "Month 01: $2929.93\n",
            "Month 02: $2839.92\n",
            "Month 03: $1929.93\n",
            "\n",
            "Most popular product per month:\n",
            "Month 01: Smartphone X (P101) with 1 units\n",
            "Month 02: Toaster (P110) with 2 units\n",
            "Month 03: Smart Watch (P109) with 2 units\n",
            "\n",
            "Average order value per month:\n",
            "Month 01: $585.99\n",
            "Month 02: $567.98\n",
            "Month 03: $385.99\n",
            "Trend: decreasing\n",
            "\n",
            "Customers who ordered in every month:\n",
            "Maria Silva (C001)\n",
            "Joao Santos (C002)\n",
            "\n",
            "Percentage of orders with reviews: 66.67%\n"
          ]
        }
      ]
    },
    {
      "cell_type": "markdown",
      "metadata": {
        "id": "conclusion"
      },
      "source": [
        "## Conclusion\n",
        "\n",
        "In this assignment, you've applied Python data structures to analyze e-commerce data from multiple angles:\n",
        "- Basic data exploration\n",
        "- Order analysis\n",
        "- Customer behavior analysis\n",
        "- Product analysis\n",
        "- Time-based analysis\n",
        "\n",
        "These types of analyses are fundamental in e-commerce businesses to understand customer behavior, identify top-performing products, and detect trends over time.\n",
        "\n",
        "### What to submit\n",
        "- This completed notebook with your solutions for all tasks\n",
        "- Make sure all code is well-commented and organized\n",
        "- Ensure all cells have been run and show output\n",
        "\n",
        "### Reflection Questions\n",
        "Before submitting, consider the following questions:\n",
        "1. Which data structure was most useful for each type of analysis?\n",
        "2. Are there any insights from the data that surprised you?\n",
        "3. How would you improve this analysis if you had more data or time?"
      ]
    }
  ],
  "metadata": {
    "colab": {
      "provenance": [],
      "toc_visible": true
    },
    "kernelspec": {
      "display_name": "Python 3",
      "name": "python3"
    }
  },
  "nbformat": 4,
  "nbformat_minor": 0
}