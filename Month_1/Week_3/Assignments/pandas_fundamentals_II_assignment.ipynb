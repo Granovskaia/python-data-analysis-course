{
  "cells": [
    {
      "cell_type": "markdown",
      "metadata": {
        "id": "m8ctM7GhUh1q"
      },
      "source": [
        "# Python for Data Analysis - Week 3\n",
        "## Minor Assignment: Pandas Fundamentals II\n",
        "\n",
        "**Due Date:** Wednesday, April 23, 2025\n",
        "\n",
        "### Overview\n",
        "In this assignment, you will practice the core Pandas concepts covered in today's lecture: indexing and selection, filtering data, and handling missing values. You'll work with a customer purchase dataset to clean, transform, and extract insights from the data.\n",
        "\n",
        "### Learning Objectives\n",
        "By completing this assignment, you will be able to:\n",
        "- Use different methods for indexing and selecting data in Pandas\n",
        "- Apply filtering operations to extract specific subsets of data\n",
        "- Identify and handle missing values using various techniques\n",
        "- Apply these techniques to solve real-world data cleaning challenges\n",
        "\n",
        "### Dataset\n",
        "You will be working with a customer purchase dataset (`customer_purchase_data.csv`) containing information about customers, their demographics, and their purchase transactions.\n",
        "\n",
        "### Submission Guidelines\n",
        "- Submit your completed notebook via the course portal\n",
        "- Include your name and student ID in the notebook\n",
        "- Ensure all code cells are executed and outputs are visible\n",
        "- Add comments to explain your code and reasoning\n",
        "\n",
        "Let's begin!"
      ]
    },
    {
      "cell_type": "markdown",
      "metadata": {
        "id": "wZfpXh5KUh1t"
      },
      "source": [
        "## Student Information\n",
        "\n",
        "Name: Jesse Timothy  \n",
        "Student ID: CHT4/24/IDA/147"
      ]
    },
    {
      "cell_type": "markdown",
      "metadata": {
        "id": "pBD2pie4Uh1t"
      },
      "source": [
        "## Setup\n",
        "\n",
        "First, let's import the necessary libraries and load the dataset."
      ]
    },
    {
      "cell_type": "code",
      "execution_count": 1,
      "metadata": {
        "id": "rS8qnxMPUh1t"
      },
      "outputs": [],
      "source": [
        "# Import libraries\n",
        "import pandas as pd\n",
        "import numpy as np\n",
        "import matplotlib.pyplot as plt\n",
        "\n",
        "# Set pandas display options\n",
        "pd.set_option('display.max_columns', None)\n",
        "pd.set_option('display.max_rows', 50)\n",
        "pd.set_option('display.width', 1000)\n",
        "\n",
        "# For plotting in the notebook\n",
        "%matplotlib inline"
      ]
    },
    {
      "cell_type": "code",
      "execution_count": 4,
      "metadata": {
        "id": "TDLY7WaAUh1u",
        "outputId": "1e523032-68b6-404c-ba00-ce96f6b152d4",
        "colab": {
          "base_uri": "https://localhost:8080/",
          "height": 335
        }
      },
      "outputs": [
        {
          "output_type": "display_data",
          "data": {
            "text/plain": [
              "<IPython.core.display.HTML object>"
            ],
            "text/html": [
              "\n",
              "     <input type=\"file\" id=\"files-d578d257-a897-4ff9-b2e3-d60fd08c75c8\" name=\"files[]\" multiple disabled\n",
              "        style=\"border:none\" />\n",
              "     <output id=\"result-d578d257-a897-4ff9-b2e3-d60fd08c75c8\">\n",
              "      Upload widget is only available when the cell has been executed in the\n",
              "      current browser session. Please rerun this cell to enable.\n",
              "      </output>\n",
              "      <script>// Copyright 2017 Google LLC\n",
              "//\n",
              "// Licensed under the Apache License, Version 2.0 (the \"License\");\n",
              "// you may not use this file except in compliance with the License.\n",
              "// You may obtain a copy of the License at\n",
              "//\n",
              "//      http://www.apache.org/licenses/LICENSE-2.0\n",
              "//\n",
              "// Unless required by applicable law or agreed to in writing, software\n",
              "// distributed under the License is distributed on an \"AS IS\" BASIS,\n",
              "// WITHOUT WARRANTIES OR CONDITIONS OF ANY KIND, either express or implied.\n",
              "// See the License for the specific language governing permissions and\n",
              "// limitations under the License.\n",
              "\n",
              "/**\n",
              " * @fileoverview Helpers for google.colab Python module.\n",
              " */\n",
              "(function(scope) {\n",
              "function span(text, styleAttributes = {}) {\n",
              "  const element = document.createElement('span');\n",
              "  element.textContent = text;\n",
              "  for (const key of Object.keys(styleAttributes)) {\n",
              "    element.style[key] = styleAttributes[key];\n",
              "  }\n",
              "  return element;\n",
              "}\n",
              "\n",
              "// Max number of bytes which will be uploaded at a time.\n",
              "const MAX_PAYLOAD_SIZE = 100 * 1024;\n",
              "\n",
              "function _uploadFiles(inputId, outputId) {\n",
              "  const steps = uploadFilesStep(inputId, outputId);\n",
              "  const outputElement = document.getElementById(outputId);\n",
              "  // Cache steps on the outputElement to make it available for the next call\n",
              "  // to uploadFilesContinue from Python.\n",
              "  outputElement.steps = steps;\n",
              "\n",
              "  return _uploadFilesContinue(outputId);\n",
              "}\n",
              "\n",
              "// This is roughly an async generator (not supported in the browser yet),\n",
              "// where there are multiple asynchronous steps and the Python side is going\n",
              "// to poll for completion of each step.\n",
              "// This uses a Promise to block the python side on completion of each step,\n",
              "// then passes the result of the previous step as the input to the next step.\n",
              "function _uploadFilesContinue(outputId) {\n",
              "  const outputElement = document.getElementById(outputId);\n",
              "  const steps = outputElement.steps;\n",
              "\n",
              "  const next = steps.next(outputElement.lastPromiseValue);\n",
              "  return Promise.resolve(next.value.promise).then((value) => {\n",
              "    // Cache the last promise value to make it available to the next\n",
              "    // step of the generator.\n",
              "    outputElement.lastPromiseValue = value;\n",
              "    return next.value.response;\n",
              "  });\n",
              "}\n",
              "\n",
              "/**\n",
              " * Generator function which is called between each async step of the upload\n",
              " * process.\n",
              " * @param {string} inputId Element ID of the input file picker element.\n",
              " * @param {string} outputId Element ID of the output display.\n",
              " * @return {!Iterable<!Object>} Iterable of next steps.\n",
              " */\n",
              "function* uploadFilesStep(inputId, outputId) {\n",
              "  const inputElement = document.getElementById(inputId);\n",
              "  inputElement.disabled = false;\n",
              "\n",
              "  const outputElement = document.getElementById(outputId);\n",
              "  outputElement.innerHTML = '';\n",
              "\n",
              "  const pickedPromise = new Promise((resolve) => {\n",
              "    inputElement.addEventListener('change', (e) => {\n",
              "      resolve(e.target.files);\n",
              "    });\n",
              "  });\n",
              "\n",
              "  const cancel = document.createElement('button');\n",
              "  inputElement.parentElement.appendChild(cancel);\n",
              "  cancel.textContent = 'Cancel upload';\n",
              "  const cancelPromise = new Promise((resolve) => {\n",
              "    cancel.onclick = () => {\n",
              "      resolve(null);\n",
              "    };\n",
              "  });\n",
              "\n",
              "  // Wait for the user to pick the files.\n",
              "  const files = yield {\n",
              "    promise: Promise.race([pickedPromise, cancelPromise]),\n",
              "    response: {\n",
              "      action: 'starting',\n",
              "    }\n",
              "  };\n",
              "\n",
              "  cancel.remove();\n",
              "\n",
              "  // Disable the input element since further picks are not allowed.\n",
              "  inputElement.disabled = true;\n",
              "\n",
              "  if (!files) {\n",
              "    return {\n",
              "      response: {\n",
              "        action: 'complete',\n",
              "      }\n",
              "    };\n",
              "  }\n",
              "\n",
              "  for (const file of files) {\n",
              "    const li = document.createElement('li');\n",
              "    li.append(span(file.name, {fontWeight: 'bold'}));\n",
              "    li.append(span(\n",
              "        `(${file.type || 'n/a'}) - ${file.size} bytes, ` +\n",
              "        `last modified: ${\n",
              "            file.lastModifiedDate ? file.lastModifiedDate.toLocaleDateString() :\n",
              "                                    'n/a'} - `));\n",
              "    const percent = span('0% done');\n",
              "    li.appendChild(percent);\n",
              "\n",
              "    outputElement.appendChild(li);\n",
              "\n",
              "    const fileDataPromise = new Promise((resolve) => {\n",
              "      const reader = new FileReader();\n",
              "      reader.onload = (e) => {\n",
              "        resolve(e.target.result);\n",
              "      };\n",
              "      reader.readAsArrayBuffer(file);\n",
              "    });\n",
              "    // Wait for the data to be ready.\n",
              "    let fileData = yield {\n",
              "      promise: fileDataPromise,\n",
              "      response: {\n",
              "        action: 'continue',\n",
              "      }\n",
              "    };\n",
              "\n",
              "    // Use a chunked sending to avoid message size limits. See b/62115660.\n",
              "    let position = 0;\n",
              "    do {\n",
              "      const length = Math.min(fileData.byteLength - position, MAX_PAYLOAD_SIZE);\n",
              "      const chunk = new Uint8Array(fileData, position, length);\n",
              "      position += length;\n",
              "\n",
              "      const base64 = btoa(String.fromCharCode.apply(null, chunk));\n",
              "      yield {\n",
              "        response: {\n",
              "          action: 'append',\n",
              "          file: file.name,\n",
              "          data: base64,\n",
              "        },\n",
              "      };\n",
              "\n",
              "      let percentDone = fileData.byteLength === 0 ?\n",
              "          100 :\n",
              "          Math.round((position / fileData.byteLength) * 100);\n",
              "      percent.textContent = `${percentDone}% done`;\n",
              "\n",
              "    } while (position < fileData.byteLength);\n",
              "  }\n",
              "\n",
              "  // All done.\n",
              "  yield {\n",
              "    response: {\n",
              "      action: 'complete',\n",
              "    }\n",
              "  };\n",
              "}\n",
              "\n",
              "scope.google = scope.google || {};\n",
              "scope.google.colab = scope.google.colab || {};\n",
              "scope.google.colab._files = {\n",
              "  _uploadFiles,\n",
              "  _uploadFilesContinue,\n",
              "};\n",
              "})(self);\n",
              "</script> "
            ]
          },
          "metadata": {}
        },
        {
          "output_type": "stream",
          "name": "stdout",
          "text": [
            "Saving customer_purchase_data.csv to customer_purchase_data (2).csv\n"
          ]
        },
        {
          "output_type": "execute_result",
          "data": {
            "text/plain": [
              "   CustomerID  Gender  Age  Income Occupation Education   Region MaritalStatus PurchaseDate ProductID           ProductName     Category  Subcategory    Price  Quantity PaymentMethod\n",
              "0        1001    Male   34   72000   Engineer  Bachelor     East       Married   2024-03-05      P001       Laptop HP Elite  Electronics    Computers  1200.50       1.0   Credit Card\n",
              "1        1001    Male   34   72000   Engineer  Bachelor     East       Married   2024-02-15      P045   External Hard Drive  Electronics  Accessories    89.99       2.0   Credit Card\n",
              "2        1002  Female   28   65000    Teacher    Master     West        Single   2024-03-10      P012              Yoga Mat       Sports      Fitness    35.50       1.0        PayPal\n",
              "3        1003  Female   45   95000     Doctor       PhD  Central       Married   2024-03-07      P023          Coffee Maker         Home      Kitchen   149.99       NaN    Debit Card\n",
              "4        1003  Female   45   95000     Doctor       PhD  Central       Married   2024-03-15      P056  Professional Blender         Home      Kitchen   299.95       1.0   Credit Card"
            ],
            "text/html": [
              "\n",
              "  <div id=\"df-e4ffeb6f-b60e-4fc2-9631-c74712ac3c2d\" class=\"colab-df-container\">\n",
              "    <div>\n",
              "<style scoped>\n",
              "    .dataframe tbody tr th:only-of-type {\n",
              "        vertical-align: middle;\n",
              "    }\n",
              "\n",
              "    .dataframe tbody tr th {\n",
              "        vertical-align: top;\n",
              "    }\n",
              "\n",
              "    .dataframe thead th {\n",
              "        text-align: right;\n",
              "    }\n",
              "</style>\n",
              "<table border=\"1\" class=\"dataframe\">\n",
              "  <thead>\n",
              "    <tr style=\"text-align: right;\">\n",
              "      <th></th>\n",
              "      <th>CustomerID</th>\n",
              "      <th>Gender</th>\n",
              "      <th>Age</th>\n",
              "      <th>Income</th>\n",
              "      <th>Occupation</th>\n",
              "      <th>Education</th>\n",
              "      <th>Region</th>\n",
              "      <th>MaritalStatus</th>\n",
              "      <th>PurchaseDate</th>\n",
              "      <th>ProductID</th>\n",
              "      <th>ProductName</th>\n",
              "      <th>Category</th>\n",
              "      <th>Subcategory</th>\n",
              "      <th>Price</th>\n",
              "      <th>Quantity</th>\n",
              "      <th>PaymentMethod</th>\n",
              "    </tr>\n",
              "  </thead>\n",
              "  <tbody>\n",
              "    <tr>\n",
              "      <th>0</th>\n",
              "      <td>1001</td>\n",
              "      <td>Male</td>\n",
              "      <td>34</td>\n",
              "      <td>72000</td>\n",
              "      <td>Engineer</td>\n",
              "      <td>Bachelor</td>\n",
              "      <td>East</td>\n",
              "      <td>Married</td>\n",
              "      <td>2024-03-05</td>\n",
              "      <td>P001</td>\n",
              "      <td>Laptop HP Elite</td>\n",
              "      <td>Electronics</td>\n",
              "      <td>Computers</td>\n",
              "      <td>1200.50</td>\n",
              "      <td>1.0</td>\n",
              "      <td>Credit Card</td>\n",
              "    </tr>\n",
              "    <tr>\n",
              "      <th>1</th>\n",
              "      <td>1001</td>\n",
              "      <td>Male</td>\n",
              "      <td>34</td>\n",
              "      <td>72000</td>\n",
              "      <td>Engineer</td>\n",
              "      <td>Bachelor</td>\n",
              "      <td>East</td>\n",
              "      <td>Married</td>\n",
              "      <td>2024-02-15</td>\n",
              "      <td>P045</td>\n",
              "      <td>External Hard Drive</td>\n",
              "      <td>Electronics</td>\n",
              "      <td>Accessories</td>\n",
              "      <td>89.99</td>\n",
              "      <td>2.0</td>\n",
              "      <td>Credit Card</td>\n",
              "    </tr>\n",
              "    <tr>\n",
              "      <th>2</th>\n",
              "      <td>1002</td>\n",
              "      <td>Female</td>\n",
              "      <td>28</td>\n",
              "      <td>65000</td>\n",
              "      <td>Teacher</td>\n",
              "      <td>Master</td>\n",
              "      <td>West</td>\n",
              "      <td>Single</td>\n",
              "      <td>2024-03-10</td>\n",
              "      <td>P012</td>\n",
              "      <td>Yoga Mat</td>\n",
              "      <td>Sports</td>\n",
              "      <td>Fitness</td>\n",
              "      <td>35.50</td>\n",
              "      <td>1.0</td>\n",
              "      <td>PayPal</td>\n",
              "    </tr>\n",
              "    <tr>\n",
              "      <th>3</th>\n",
              "      <td>1003</td>\n",
              "      <td>Female</td>\n",
              "      <td>45</td>\n",
              "      <td>95000</td>\n",
              "      <td>Doctor</td>\n",
              "      <td>PhD</td>\n",
              "      <td>Central</td>\n",
              "      <td>Married</td>\n",
              "      <td>2024-03-07</td>\n",
              "      <td>P023</td>\n",
              "      <td>Coffee Maker</td>\n",
              "      <td>Home</td>\n",
              "      <td>Kitchen</td>\n",
              "      <td>149.99</td>\n",
              "      <td>NaN</td>\n",
              "      <td>Debit Card</td>\n",
              "    </tr>\n",
              "    <tr>\n",
              "      <th>4</th>\n",
              "      <td>1003</td>\n",
              "      <td>Female</td>\n",
              "      <td>45</td>\n",
              "      <td>95000</td>\n",
              "      <td>Doctor</td>\n",
              "      <td>PhD</td>\n",
              "      <td>Central</td>\n",
              "      <td>Married</td>\n",
              "      <td>2024-03-15</td>\n",
              "      <td>P056</td>\n",
              "      <td>Professional Blender</td>\n",
              "      <td>Home</td>\n",
              "      <td>Kitchen</td>\n",
              "      <td>299.95</td>\n",
              "      <td>1.0</td>\n",
              "      <td>Credit Card</td>\n",
              "    </tr>\n",
              "  </tbody>\n",
              "</table>\n",
              "</div>\n",
              "    <div class=\"colab-df-buttons\">\n",
              "\n",
              "  <div class=\"colab-df-container\">\n",
              "    <button class=\"colab-df-convert\" onclick=\"convertToInteractive('df-e4ffeb6f-b60e-4fc2-9631-c74712ac3c2d')\"\n",
              "            title=\"Convert this dataframe to an interactive table.\"\n",
              "            style=\"display:none;\">\n",
              "\n",
              "  <svg xmlns=\"http://www.w3.org/2000/svg\" height=\"24px\" viewBox=\"0 -960 960 960\">\n",
              "    <path d=\"M120-120v-720h720v720H120Zm60-500h600v-160H180v160Zm220 220h160v-160H400v160Zm0 220h160v-160H400v160ZM180-400h160v-160H180v160Zm440 0h160v-160H620v160ZM180-180h160v-160H180v160Zm440 0h160v-160H620v160Z\"/>\n",
              "  </svg>\n",
              "    </button>\n",
              "\n",
              "  <style>\n",
              "    .colab-df-container {\n",
              "      display:flex;\n",
              "      gap: 12px;\n",
              "    }\n",
              "\n",
              "    .colab-df-convert {\n",
              "      background-color: #E8F0FE;\n",
              "      border: none;\n",
              "      border-radius: 50%;\n",
              "      cursor: pointer;\n",
              "      display: none;\n",
              "      fill: #1967D2;\n",
              "      height: 32px;\n",
              "      padding: 0 0 0 0;\n",
              "      width: 32px;\n",
              "    }\n",
              "\n",
              "    .colab-df-convert:hover {\n",
              "      background-color: #E2EBFA;\n",
              "      box-shadow: 0px 1px 2px rgba(60, 64, 67, 0.3), 0px 1px 3px 1px rgba(60, 64, 67, 0.15);\n",
              "      fill: #174EA6;\n",
              "    }\n",
              "\n",
              "    .colab-df-buttons div {\n",
              "      margin-bottom: 4px;\n",
              "    }\n",
              "\n",
              "    [theme=dark] .colab-df-convert {\n",
              "      background-color: #3B4455;\n",
              "      fill: #D2E3FC;\n",
              "    }\n",
              "\n",
              "    [theme=dark] .colab-df-convert:hover {\n",
              "      background-color: #434B5C;\n",
              "      box-shadow: 0px 1px 3px 1px rgba(0, 0, 0, 0.15);\n",
              "      filter: drop-shadow(0px 1px 2px rgba(0, 0, 0, 0.3));\n",
              "      fill: #FFFFFF;\n",
              "    }\n",
              "  </style>\n",
              "\n",
              "    <script>\n",
              "      const buttonEl =\n",
              "        document.querySelector('#df-e4ffeb6f-b60e-4fc2-9631-c74712ac3c2d button.colab-df-convert');\n",
              "      buttonEl.style.display =\n",
              "        google.colab.kernel.accessAllowed ? 'block' : 'none';\n",
              "\n",
              "      async function convertToInteractive(key) {\n",
              "        const element = document.querySelector('#df-e4ffeb6f-b60e-4fc2-9631-c74712ac3c2d');\n",
              "        const dataTable =\n",
              "          await google.colab.kernel.invokeFunction('convertToInteractive',\n",
              "                                                    [key], {});\n",
              "        if (!dataTable) return;\n",
              "\n",
              "        const docLinkHtml = 'Like what you see? Visit the ' +\n",
              "          '<a target=\"_blank\" href=https://colab.research.google.com/notebooks/data_table.ipynb>data table notebook</a>'\n",
              "          + ' to learn more about interactive tables.';\n",
              "        element.innerHTML = '';\n",
              "        dataTable['output_type'] = 'display_data';\n",
              "        await google.colab.output.renderOutput(dataTable, element);\n",
              "        const docLink = document.createElement('div');\n",
              "        docLink.innerHTML = docLinkHtml;\n",
              "        element.appendChild(docLink);\n",
              "      }\n",
              "    </script>\n",
              "  </div>\n",
              "\n",
              "\n",
              "    <div id=\"df-189adc16-01b1-4586-a304-c70c3e805bd2\">\n",
              "      <button class=\"colab-df-quickchart\" onclick=\"quickchart('df-189adc16-01b1-4586-a304-c70c3e805bd2')\"\n",
              "                title=\"Suggest charts\"\n",
              "                style=\"display:none;\">\n",
              "\n",
              "<svg xmlns=\"http://www.w3.org/2000/svg\" height=\"24px\"viewBox=\"0 0 24 24\"\n",
              "     width=\"24px\">\n",
              "    <g>\n",
              "        <path d=\"M19 3H5c-1.1 0-2 .9-2 2v14c0 1.1.9 2 2 2h14c1.1 0 2-.9 2-2V5c0-1.1-.9-2-2-2zM9 17H7v-7h2v7zm4 0h-2V7h2v10zm4 0h-2v-4h2v4z\"/>\n",
              "    </g>\n",
              "</svg>\n",
              "      </button>\n",
              "\n",
              "<style>\n",
              "  .colab-df-quickchart {\n",
              "      --bg-color: #E8F0FE;\n",
              "      --fill-color: #1967D2;\n",
              "      --hover-bg-color: #E2EBFA;\n",
              "      --hover-fill-color: #174EA6;\n",
              "      --disabled-fill-color: #AAA;\n",
              "      --disabled-bg-color: #DDD;\n",
              "  }\n",
              "\n",
              "  [theme=dark] .colab-df-quickchart {\n",
              "      --bg-color: #3B4455;\n",
              "      --fill-color: #D2E3FC;\n",
              "      --hover-bg-color: #434B5C;\n",
              "      --hover-fill-color: #FFFFFF;\n",
              "      --disabled-bg-color: #3B4455;\n",
              "      --disabled-fill-color: #666;\n",
              "  }\n",
              "\n",
              "  .colab-df-quickchart {\n",
              "    background-color: var(--bg-color);\n",
              "    border: none;\n",
              "    border-radius: 50%;\n",
              "    cursor: pointer;\n",
              "    display: none;\n",
              "    fill: var(--fill-color);\n",
              "    height: 32px;\n",
              "    padding: 0;\n",
              "    width: 32px;\n",
              "  }\n",
              "\n",
              "  .colab-df-quickchart:hover {\n",
              "    background-color: var(--hover-bg-color);\n",
              "    box-shadow: 0 1px 2px rgba(60, 64, 67, 0.3), 0 1px 3px 1px rgba(60, 64, 67, 0.15);\n",
              "    fill: var(--button-hover-fill-color);\n",
              "  }\n",
              "\n",
              "  .colab-df-quickchart-complete:disabled,\n",
              "  .colab-df-quickchart-complete:disabled:hover {\n",
              "    background-color: var(--disabled-bg-color);\n",
              "    fill: var(--disabled-fill-color);\n",
              "    box-shadow: none;\n",
              "  }\n",
              "\n",
              "  .colab-df-spinner {\n",
              "    border: 2px solid var(--fill-color);\n",
              "    border-color: transparent;\n",
              "    border-bottom-color: var(--fill-color);\n",
              "    animation:\n",
              "      spin 1s steps(1) infinite;\n",
              "  }\n",
              "\n",
              "  @keyframes spin {\n",
              "    0% {\n",
              "      border-color: transparent;\n",
              "      border-bottom-color: var(--fill-color);\n",
              "      border-left-color: var(--fill-color);\n",
              "    }\n",
              "    20% {\n",
              "      border-color: transparent;\n",
              "      border-left-color: var(--fill-color);\n",
              "      border-top-color: var(--fill-color);\n",
              "    }\n",
              "    30% {\n",
              "      border-color: transparent;\n",
              "      border-left-color: var(--fill-color);\n",
              "      border-top-color: var(--fill-color);\n",
              "      border-right-color: var(--fill-color);\n",
              "    }\n",
              "    40% {\n",
              "      border-color: transparent;\n",
              "      border-right-color: var(--fill-color);\n",
              "      border-top-color: var(--fill-color);\n",
              "    }\n",
              "    60% {\n",
              "      border-color: transparent;\n",
              "      border-right-color: var(--fill-color);\n",
              "    }\n",
              "    80% {\n",
              "      border-color: transparent;\n",
              "      border-right-color: var(--fill-color);\n",
              "      border-bottom-color: var(--fill-color);\n",
              "    }\n",
              "    90% {\n",
              "      border-color: transparent;\n",
              "      border-bottom-color: var(--fill-color);\n",
              "    }\n",
              "  }\n",
              "</style>\n",
              "\n",
              "      <script>\n",
              "        async function quickchart(key) {\n",
              "          const quickchartButtonEl =\n",
              "            document.querySelector('#' + key + ' button');\n",
              "          quickchartButtonEl.disabled = true;  // To prevent multiple clicks.\n",
              "          quickchartButtonEl.classList.add('colab-df-spinner');\n",
              "          try {\n",
              "            const charts = await google.colab.kernel.invokeFunction(\n",
              "                'suggestCharts', [key], {});\n",
              "          } catch (error) {\n",
              "            console.error('Error during call to suggestCharts:', error);\n",
              "          }\n",
              "          quickchartButtonEl.classList.remove('colab-df-spinner');\n",
              "          quickchartButtonEl.classList.add('colab-df-quickchart-complete');\n",
              "        }\n",
              "        (() => {\n",
              "          let quickchartButtonEl =\n",
              "            document.querySelector('#df-189adc16-01b1-4586-a304-c70c3e805bd2 button');\n",
              "          quickchartButtonEl.style.display =\n",
              "            google.colab.kernel.accessAllowed ? 'block' : 'none';\n",
              "        })();\n",
              "      </script>\n",
              "    </div>\n",
              "\n",
              "    </div>\n",
              "  </div>\n"
            ],
            "application/vnd.google.colaboratory.intrinsic+json": {
              "type": "dataframe",
              "variable_name": "df",
              "summary": "{\n  \"name\": \"df\",\n  \"rows\": 57,\n  \"fields\": [\n    {\n      \"column\": \"CustomerID\",\n      \"properties\": {\n        \"dtype\": \"number\",\n        \"std\": 14,\n        \"min\": 1001,\n        \"max\": 1050,\n        \"num_unique_values\": 50,\n        \"samples\": [\n          1014,\n          1040,\n          1031\n        ],\n        \"semantic_type\": \"\",\n        \"description\": \"\"\n      }\n    },\n    {\n      \"column\": \"Gender\",\n      \"properties\": {\n        \"dtype\": \"category\",\n        \"num_unique_values\": 2,\n        \"samples\": [\n          \"Female\",\n          \"Male\"\n        ],\n        \"semantic_type\": \"\",\n        \"description\": \"\"\n      }\n    },\n    {\n      \"column\": \"Age\",\n      \"properties\": {\n        \"dtype\": \"number\",\n        \"std\": 8,\n        \"min\": 21,\n        \"max\": 53,\n        \"num_unique_values\": 33,\n        \"samples\": [\n          24,\n          44\n        ],\n        \"semantic_type\": \"\",\n        \"description\": \"\"\n      }\n    },\n    {\n      \"column\": \"Income\",\n      \"properties\": {\n        \"dtype\": \"number\",\n        \"std\": 23062,\n        \"min\": 35000,\n        \"max\": 135000,\n        \"num_unique_values\": 45,\n        \"samples\": [\n          82000,\n          99000\n        ],\n        \"semantic_type\": \"\",\n        \"description\": \"\"\n      }\n    },\n    {\n      \"column\": \"Occupation\",\n      \"properties\": {\n        \"dtype\": \"string\",\n        \"num_unique_values\": 50,\n        \"samples\": [\n          \"Accountant\",\n          \"Customer Service\"\n        ],\n        \"semantic_type\": \"\",\n        \"description\": \"\"\n      }\n    },\n    {\n      \"column\": \"Education\",\n      \"properties\": {\n        \"dtype\": \"category\",\n        \"num_unique_values\": 10,\n        \"samples\": [\n          \"Associate\",\n          \"Master\"\n        ],\n        \"semantic_type\": \"\",\n        \"description\": \"\"\n      }\n    },\n    {\n      \"column\": \"Region\",\n      \"properties\": {\n        \"dtype\": \"category\",\n        \"num_unique_values\": 5,\n        \"samples\": [\n          \"West\",\n          \"South\"\n        ],\n        \"semantic_type\": \"\",\n        \"description\": \"\"\n      }\n    },\n    {\n      \"column\": \"MaritalStatus\",\n      \"properties\": {\n        \"dtype\": \"category\",\n        \"num_unique_values\": 3,\n        \"samples\": [\n          \"Married\",\n          \"Single\"\n        ],\n        \"semantic_type\": \"\",\n        \"description\": \"\"\n      }\n    },\n    {\n      \"column\": \"PurchaseDate\",\n      \"properties\": {\n        \"dtype\": \"object\",\n        \"num_unique_values\": 37,\n        \"samples\": [\n          \"2024-03-04\",\n          \"2024-03-08\"\n        ],\n        \"semantic_type\": \"\",\n        \"description\": \"\"\n      }\n    },\n    {\n      \"column\": \"ProductID\",\n      \"properties\": {\n        \"dtype\": \"string\",\n        \"num_unique_values\": 53,\n        \"samples\": [\n          \"P189\",\n          \"P401\"\n        ],\n        \"semantic_type\": \"\",\n        \"description\": \"\"\n      }\n    },\n    {\n      \"column\": \"ProductName\",\n      \"properties\": {\n        \"dtype\": \"string\",\n        \"num_unique_values\": 53,\n        \"samples\": [\n          \"Academic Books\",\n          \"Planner Software\"\n        ],\n        \"semantic_type\": \"\",\n        \"description\": \"\"\n      }\n    },\n    {\n      \"column\": \"Category\",\n      \"properties\": {\n        \"dtype\": \"category\",\n        \"num_unique_values\": 14,\n        \"samples\": [\n          \"Books\",\n          \"Services\"\n        ],\n        \"semantic_type\": \"\",\n        \"description\": \"\"\n      }\n    },\n    {\n      \"column\": \"Subcategory\",\n      \"properties\": {\n        \"dtype\": \"string\",\n        \"num_unique_values\": 31,\n        \"samples\": [\n          \"Productivity\",\n          \"Bags\"\n        ],\n        \"semantic_type\": \"\",\n        \"description\": \"\"\n      }\n    },\n    {\n      \"column\": \"Price\",\n      \"properties\": {\n        \"dtype\": \"number\",\n        \"std\": 340.34702438773644,\n        \"min\": 35.5,\n        \"max\": 1599.99,\n        \"num_unique_values\": 47,\n        \"samples\": [\n          89.95,\n          110.0\n        ],\n        \"semantic_type\": \"\",\n        \"description\": \"\"\n      }\n    },\n    {\n      \"column\": \"Quantity\",\n      \"properties\": {\n        \"dtype\": \"number\",\n        \"std\": 0.5078508224985541,\n        \"min\": 1.0,\n        \"max\": 3.0,\n        \"num_unique_values\": 3,\n        \"samples\": [\n          1.0,\n          2.0\n        ],\n        \"semantic_type\": \"\",\n        \"description\": \"\"\n      }\n    },\n    {\n      \"column\": \"PaymentMethod\",\n      \"properties\": {\n        \"dtype\": \"category\",\n        \"num_unique_values\": 5,\n        \"samples\": [\n          \"PayPal\",\n          \"Health Insurance\"\n        ],\n        \"semantic_type\": \"\",\n        \"description\": \"\"\n      }\n    }\n  ]\n}"
            }
          },
          "metadata": {},
          "execution_count": 4
        }
      ],
      "source": [
        "# Load the dataset\n",
        "from google.colab import files\n",
        "uploaded = files.upload()\n",
        "df = pd.read_csv('customer_purchase_data.csv')\n",
        "\n",
        "# Display the first few rows\n",
        "df.head()"
      ]
    },
    {
      "cell_type": "markdown",
      "metadata": {
        "id": "xvH4LXwfUh1u"
      },
      "source": [
        "## Part 1: Exploring the Dataset (10 points)\n",
        "\n",
        "Before we dive into the main tasks, let's first explore the dataset to understand its structure and content."
      ]
    },
    {
      "cell_type": "markdown",
      "metadata": {
        "id": "F-6N7W3_Uh1v"
      },
      "source": [
        "### 1.1 Dataset Information\n",
        "\n",
        "Examine the basic information about the dataset by answering the following questions:\n",
        "\n",
        "1. How many rows and columns does the dataset have?\n",
        "2. What are the column names and their data types?\n",
        "3. Are there any missing values in the dataset? If so, in which columns?"
      ]
    },
    {
      "cell_type": "code",
      "execution_count": 5,
      "metadata": {
        "id": "3iqM0LIlUh1v",
        "outputId": "1de8b723-edef-40a2-aef1-1dbb75a645be",
        "colab": {
          "base_uri": "https://localhost:8080/"
        }
      },
      "outputs": [
        {
          "output_type": "stream",
          "name": "stdout",
          "text": [
            "Rows and Columns: (57, 16)\n"
          ]
        }
      ],
      "source": [
        "# Check the shape of the dataset\n",
        "print(\"Rows and Columns:\", df.shape)"
      ]
    },
    {
      "cell_type": "code",
      "execution_count": 6,
      "metadata": {
        "id": "W2MvdZs4Uh1v",
        "outputId": "04b66860-2a8f-4647-864b-f3854376ce03",
        "colab": {
          "base_uri": "https://localhost:8080/"
        }
      },
      "outputs": [
        {
          "output_type": "stream",
          "name": "stdout",
          "text": [
            "\n",
            "Column Names and Data Types:\n",
            "CustomerID         int64\n",
            "Gender            object\n",
            "Age                int64\n",
            "Income             int64\n",
            "Occupation        object\n",
            "Education         object\n",
            "Region            object\n",
            "MaritalStatus     object\n",
            "PurchaseDate      object\n",
            "ProductID         object\n",
            "ProductName       object\n",
            "Category          object\n",
            "Subcategory       object\n",
            "Price            float64\n",
            "Quantity         float64\n",
            "PaymentMethod     object\n",
            "dtype: object\n"
          ]
        }
      ],
      "source": [
        "# Display information about the dataset\n",
        "print(\"\\nColumn Names and Data Types:\")\n",
        "print(df.dtypes)"
      ]
    },
    {
      "cell_type": "code",
      "execution_count": 7,
      "metadata": {
        "id": "WTyHCtbQUh1v",
        "outputId": "922c4afe-052f-4326-9d7d-4db775666054",
        "colab": {
          "base_uri": "https://localhost:8080/"
        }
      },
      "outputs": [
        {
          "output_type": "stream",
          "name": "stdout",
          "text": [
            "\n",
            "Missing Values:\n",
            "CustomerID       0\n",
            "Gender           0\n",
            "Age              0\n",
            "Income           0\n",
            "Occupation       0\n",
            "Education        0\n",
            "Region           0\n",
            "MaritalStatus    0\n",
            "PurchaseDate     0\n",
            "ProductID        0\n",
            "ProductName      0\n",
            "Category         0\n",
            "Subcategory      0\n",
            "Price            0\n",
            "Quantity         2\n",
            "PaymentMethod    0\n",
            "dtype: int64\n"
          ]
        }
      ],
      "source": [
        "# Check for missing values\n",
        "print(\"\\nMissing Values:\")\n",
        "print(df.isnull().sum())"
      ]
    },
    {
      "cell_type": "markdown",
      "metadata": {
        "id": "tufHOq6eUh1w"
      },
      "source": [
        "## Part 2: Indexing and Selection (30 points)\n",
        "\n",
        "In this section, you will practice various methods for selecting and indexing data in Pandas."
      ]
    },
    {
      "cell_type": "markdown",
      "metadata": {
        "id": "k8fpZppoUh1w"
      },
      "source": [
        "### 2.1 Basic Indexing\n",
        "\n",
        "Use different indexing methods to extract the following from the dataset:\n",
        "\n",
        "1. Select the 'CustomerID', 'Age', 'Income', and 'Region' columns using bracket notation\n",
        "2. Select the same columns using dot notation\n",
        "3. Select rows 10 through 20 (inclusive) using iloc\n",
        "4. Select the first 5 customers who made purchases in the 'Electronics' category using loc"
      ]
    },
    {
      "cell_type": "code",
      "execution_count": 9,
      "metadata": {
        "id": "eOt6bkG0Uh1w",
        "outputId": "7e0388e2-f4d9-4048-8ff7-8fd7b0fa86b6",
        "colab": {
          "base_uri": "https://localhost:8080/"
        }
      },
      "outputs": [
        {
          "output_type": "stream",
          "name": "stdout",
          "text": [
            "Bracket Notation Selection:\n",
            "    CustomerID  Age  Income   Region\n",
            "0        1001   34   72000     East\n",
            "1        1001   34   72000     East\n",
            "2        1002   28   65000     West\n",
            "3        1003   45   95000  Central\n",
            "4        1003   45   95000  Central\n"
          ]
        }
      ],
      "source": [
        "# 1. Select columns using bracket notation\n",
        "bracket_selection = df[['CustomerID', 'Age', 'Income', 'Region']]\n",
        "print(\"Bracket Notation Selection:\\n\", bracket_selection.head())"
      ]
    },
    {
      "cell_type": "code",
      "execution_count": 8,
      "metadata": {
        "id": "wLCZx9JeUh1w",
        "outputId": "c33d8a39-a67e-438d-d2d1-8351cf005b80",
        "colab": {
          "base_uri": "https://localhost:8080/"
        }
      },
      "outputs": [
        {
          "output_type": "stream",
          "name": "stdout",
          "text": [
            "\n",
            "Dot Notation Selection (using bracket as fallback):\n",
            "    CustomerID  Age  Income   Region\n",
            "0        1001   34   72000     East\n",
            "1        1001   34   72000     East\n",
            "2        1002   28   65000     West\n",
            "3        1003   45   95000  Central\n",
            "4        1003   45   95000  Central\n"
          ]
        }
      ],
      "source": [
        "# 2. Select columns using dot notation\n",
        "dot_selection = df[['CustomerID', 'Age', 'Income', 'Region']]  # Dot notation not applicable for multi-column; fallback to bracket\n",
        "print(\"\\nDot Notation Selection (using bracket as fallback):\\n\", dot_selection.head())"
      ]
    },
    {
      "cell_type": "code",
      "execution_count": 10,
      "metadata": {
        "id": "ByHnIHNHUh1w",
        "outputId": "bd2e182c-4803-477c-8b08-ed6ab17aa12c",
        "colab": {
          "base_uri": "https://localhost:8080/"
        }
      },
      "outputs": [
        {
          "output_type": "stream",
          "name": "stdout",
          "text": [
            "\n",
            "Rows 10 through 20 (iloc):\n",
            "     CustomerID  Gender  Age  Income  Occupation Education   Region MaritalStatus PurchaseDate ProductID           ProductName     Category  Subcategory    Price  Quantity     PaymentMethod\n",
            "10        1007  Female   31   67000     Analyst  Bachelor    North        Single   2024-03-09      P067         Running Shoes       Sports     Footwear   120.50       1.0        Debit Card\n",
            "11        1008    Male   26   55000    Designer  Bachelor     East        Single   2024-03-11      P078           Smart Watch  Electronics    Wearables   249.99       1.0       Credit Card\n",
            "12        1009  Female   48  110000    Director    Master    South       Married   2024-03-06      P089          Dining Table    Furniture       Dining   899.99       1.0     Bank Transfer\n",
            "13        1010    Male   33   78000   Developer    Master     West       Married   2024-03-08      P090          Office Chair    Furniture       Office   349.50       2.0       Credit Card\n",
            "14        1011  Female   29   59000       Nurse  Bachelor  Central        Single   2024-02-25      P101         First Aid Kit       Health    Emergency    45.99       1.0        Debit Card\n",
            "15        1012    Male   41   92000  Consultant       PhD     East       Married   2024-03-13      P112       Business Laptop  Electronics    Computers  1599.99       1.0       Credit Card\n",
            "16        1012    Male   41   92000  Consultant       PhD     East       Married   2024-01-15      P089          Dining Table    Furniture       Dining   899.99       1.0     Bank Transfer\n",
            "17        1013  Female   36   81000  Pharmacist    Master    North      Divorced   2024-03-04      P123  Prescription Glasses       Health       Vision   199.50       1.0  Health Insurance\n",
            "18        1014    Male   23   48000  Accountant  Bachelor     West        Single   2024-03-01      P134          Tax Software     Software      Finance    79.99       1.0            PayPal\n",
            "19        1015  Female   37   76000   Marketing    Master    South       Married   2024-02-22      P145        Digital Camera  Electronics  Photography   699.95       1.0       Credit Card\n",
            "20        1016    Male   44  105000   Executive       MBA     East       Married   2024-03-03      P156     Executive Pen Set       Office   Stationery   125.00       1.0       Credit Card\n"
          ]
        }
      ],
      "source": [
        "# 3. Select rows 10 through 20 using iloc\n",
        "iloc_selection = df.iloc[10:21]  # iloc uses 0-based indexing, 10:21 includes rows 10 to 20\n",
        "print(\"\\nRows 10 through 20 (iloc):\\n\", iloc_selection)"
      ]
    },
    {
      "cell_type": "code",
      "execution_count": 11,
      "metadata": {
        "id": "yXFFuxK6Uh1x",
        "outputId": "03b23e1d-41a7-4949-9c9e-4c3ade7f4ec1",
        "colab": {
          "base_uri": "https://localhost:8080/"
        }
      },
      "outputs": [
        {
          "output_type": "stream",
          "name": "stdout",
          "text": [
            "\n",
            "First 5 Electronics Purchases (loc):\n",
            "    CustomerID  Gender  Age  Income Occupation    Education   Region MaritalStatus PurchaseDate ProductID          ProductName     Category  Subcategory    Price  Quantity PaymentMethod\n",
            "0        1001    Male   34   72000   Engineer     Bachelor     East       Married   2024-03-05      P001      Laptop HP Elite  Electronics    Computers  1200.50       1.0   Credit Card\n",
            "1        1001    Male   34   72000   Engineer     Bachelor     East       Married   2024-02-15      P045  External Hard Drive  Electronics  Accessories    89.99       2.0   Credit Card\n",
            "5        1003  Female   45   95000     Doctor          PhD  Central       Married   2024-01-22      P078          Smart Watch  Electronics    Wearables   249.99       1.0    Debit Card\n",
            "7        1005  Female   21   35000    Student  High School     West        Single   2024-02-28      P045  External Hard Drive  Electronics  Accessories    89.99       1.0        PayPal\n",
            "8        1005  Female   21   35000    Student  High School     West        Single   2024-03-14      P098     Wireless Earbuds  Electronics        Audio   129.95       1.0        PayPal\n"
          ]
        }
      ],
      "source": [
        "# 4. Select the first 5 customers who made purchases in the 'Electronics' category\n",
        "loc_selection = df.loc[df['Category'] == 'Electronics'].head(5)\n",
        "print(\"\\nFirst 5 Electronics Purchases (loc):\\n\", loc_selection)"
      ]
    },
    {
      "cell_type": "markdown",
      "metadata": {
        "id": "bD0ED9GaUh1x"
      },
      "source": [
        "### 2.2 Advanced Indexing\n",
        "\n",
        "Now, let's explore more advanced indexing techniques:\n",
        "\n",
        "1. Set the 'CustomerID' column as the index of the DataFrame\n",
        "2. Select all purchase information for customer with ID 1003 using the index\n",
        "3. Multi-level indexing: Create a MultiIndex using 'Region' and 'Category' as index levels\n",
        "4. Select all purchases in the 'East' region for the 'Electronics' category using the MultiIndex"
      ]
    },
    {
      "cell_type": "code",
      "execution_count": 12,
      "metadata": {
        "id": "SncOIzsGUh1x",
        "outputId": "a9253f33-60dd-45e7-d47f-db0e013eec02",
        "colab": {
          "base_uri": "https://localhost:8080/"
        }
      },
      "outputs": [
        {
          "output_type": "stream",
          "name": "stdout",
          "text": [
            "DataFrame with CustomerID as Index:\n",
            "             Gender  Age  Income Occupation Education   Region MaritalStatus PurchaseDate ProductID           ProductName     Category  Subcategory    Price  Quantity PaymentMethod\n",
            "CustomerID                                                                                                                                                                         \n",
            "1001          Male   34   72000   Engineer  Bachelor     East       Married   2024-03-05      P001       Laptop HP Elite  Electronics    Computers  1200.50       1.0   Credit Card\n",
            "1001          Male   34   72000   Engineer  Bachelor     East       Married   2024-02-15      P045   External Hard Drive  Electronics  Accessories    89.99       2.0   Credit Card\n",
            "1002        Female   28   65000    Teacher    Master     West        Single   2024-03-10      P012              Yoga Mat       Sports      Fitness    35.50       1.0        PayPal\n",
            "1003        Female   45   95000     Doctor       PhD  Central       Married   2024-03-07      P023          Coffee Maker         Home      Kitchen   149.99       NaN    Debit Card\n",
            "1003        Female   45   95000     Doctor       PhD  Central       Married   2024-03-15      P056  Professional Blender         Home      Kitchen   299.95       1.0   Credit Card\n"
          ]
        }
      ],
      "source": [
        "# 1. Set 'CustomerID' as the index\n",
        "df_customer_index = df.set_index('CustomerID')\n",
        "print(\"DataFrame with CustomerID as Index:\\n\", df_customer_index.head())"
      ]
    },
    {
      "cell_type": "code",
      "execution_count": 13,
      "metadata": {
        "id": "ASEF-AFwUh1x",
        "outputId": "7ab7f1b1-66e0-4fc5-f716-935a248157f9",
        "colab": {
          "base_uri": "https://localhost:8080/"
        }
      },
      "outputs": [
        {
          "output_type": "stream",
          "name": "stdout",
          "text": [
            "\n",
            "Purchases for CustomerID 1003:\n",
            "             Gender  Age  Income Occupation Education   Region MaritalStatus PurchaseDate ProductID           ProductName     Category Subcategory   Price  Quantity PaymentMethod\n",
            "CustomerID                                                                                                                                                                       \n",
            "1003        Female   45   95000     Doctor       PhD  Central       Married   2024-03-07      P023          Coffee Maker         Home     Kitchen  149.99       NaN    Debit Card\n",
            "1003        Female   45   95000     Doctor       PhD  Central       Married   2024-03-15      P056  Professional Blender         Home     Kitchen  299.95       1.0   Credit Card\n",
            "1003        Female   45   95000     Doctor       PhD  Central       Married   2024-01-22      P078           Smart Watch  Electronics   Wearables  249.99       1.0    Debit Card\n"
          ]
        }
      ],
      "source": [
        "# 2. Select all purchase information for customer 1003\n",
        "customer_1003 = df_customer_index.loc[1003]\n",
        "print(\"\\nPurchases for CustomerID 1003:\\n\", customer_1003)"
      ]
    },
    {
      "cell_type": "code",
      "execution_count": 14,
      "metadata": {
        "id": "hmGzAHa5Uh1x",
        "outputId": "29126f5a-96b8-4c3b-f9ec-c465e9433072",
        "colab": {
          "base_uri": "https://localhost:8080/"
        }
      },
      "outputs": [
        {
          "output_type": "stream",
          "name": "stdout",
          "text": [
            "\n",
            "DataFrame with Region and Category MultiIndex:\n",
            "                      CustomerID  Gender  Age  Income Occupation Education MaritalStatus PurchaseDate ProductID           ProductName  Subcategory    Price  Quantity PaymentMethod\n",
            "Region  Category                                                                                                                                                                  \n",
            "East    Electronics        1001    Male   34   72000   Engineer  Bachelor       Married   2024-03-05      P001       Laptop HP Elite    Computers  1200.50       1.0   Credit Card\n",
            "        Electronics        1001    Male   34   72000   Engineer  Bachelor       Married   2024-02-15      P045   External Hard Drive  Accessories    89.99       2.0   Credit Card\n",
            "West    Sports             1002  Female   28   65000    Teacher    Master        Single   2024-03-10      P012              Yoga Mat      Fitness    35.50       1.0        PayPal\n",
            "Central Home               1003  Female   45   95000     Doctor       PhD       Married   2024-03-07      P023          Coffee Maker      Kitchen   149.99       NaN    Debit Card\n",
            "        Home               1003  Female   45   95000     Doctor       PhD       Married   2024-03-15      P056  Professional Blender      Kitchen   299.95       1.0   Credit Card\n"
          ]
        }
      ],
      "source": [
        "# 3. Create a MultiIndex using 'Region' and 'Category'\n",
        "df_multi_index = df.set_index(['Region', 'Category'])\n",
        "print(\"\\nDataFrame with Region and Category MultiIndex:\\n\", df_multi_index.head())"
      ]
    },
    {
      "cell_type": "code",
      "execution_count": 15,
      "metadata": {
        "id": "rC2-yy5VUh1y",
        "outputId": "2a19cef6-b15d-47b4-9ac3-d8ebf5c26157",
        "colab": {
          "base_uri": "https://localhost:8080/"
        }
      },
      "outputs": [
        {
          "output_type": "stream",
          "name": "stdout",
          "text": [
            "\n",
            "East Region, Electronics Category Purchases:\n",
            "                     CustomerID  Gender  Age  Income        Occupation  Education MaritalStatus PurchaseDate ProductID          ProductName  Subcategory    Price  Quantity PaymentMethod\n",
            "Region Category                                                                                                                                                                         \n",
            "East   Electronics        1001    Male   34   72000          Engineer   Bachelor       Married   2024-03-05      P001      Laptop HP Elite    Computers  1200.50       1.0   Credit Card\n",
            "       Electronics        1001    Male   34   72000          Engineer   Bachelor       Married   2024-02-15      P045  External Hard Drive  Accessories    89.99       2.0   Credit Card\n",
            "       Electronics        1008    Male   26   55000          Designer   Bachelor        Single   2024-03-11      P078          Smart Watch    Wearables   249.99       1.0   Credit Card\n",
            "       Electronics        1012    Male   41   92000        Consultant        PhD       Married   2024-03-13      P112      Business Laptop    Computers  1599.99       1.0   Credit Card\n",
            "       Electronics        1019  Female   32   69000        HR Manager     Master       Married   2024-02-17      P190   Ergonomic Keyboard  Accessories   129.99       1.0   Credit Card\n",
            "       Electronics        1025  Female   25   52000  Graphic Designer   Bachelor        Single   2024-03-19      P256       Drawing Tablet       Design   299.00       1.0        PayPal\n",
            "       Electronics        1040    Male   24   51000  Customer Service  Associate        Single   2024-03-01      P412              Headset        Audio   129.00       1.0    Debit Card\n"
          ]
        },
        {
          "output_type": "stream",
          "name": "stderr",
          "text": [
            "<ipython-input-15-6c36f1c8f8f7>:2: PerformanceWarning: indexing past lexsort depth may impact performance.\n",
            "  east_electronics = df_multi_index.loc[('East', 'Electronics')]\n"
          ]
        }
      ],
      "source": [
        "# 4. Select all purchases in the 'East' region for the 'Electronics' category\n",
        "east_electronics = df_multi_index.loc[('East', 'Electronics')]\n",
        "print(\"\\nEast Region, Electronics Category Purchases:\\n\", east_electronics)"
      ]
    },
    {
      "cell_type": "markdown",
      "metadata": {
        "id": "84HTwEeIUh1y"
      },
      "source": [
        "### 2.3 Practical Application: Creating Customer Profiles\n",
        "\n",
        "Now, use your indexing skills to create a customer profile DataFrame that contains the following information for each unique customer:\n",
        "- CustomerID\n",
        "- Gender\n",
        "- Age\n",
        "- Income\n",
        "- Education\n",
        "- Region\n",
        "- MaritalStatus\n",
        "\n",
        "Hint: You'll need to remove duplicate customer entries since the same customer may have made multiple purchases."
      ]
    },
    {
      "cell_type": "code",
      "execution_count": 16,
      "metadata": {
        "id": "vST2H_m2Uh1y",
        "outputId": "45c7d0d6-fd80-4d9d-80b0-d840931c53d1",
        "colab": {
          "base_uri": "https://localhost:8080/"
        }
      },
      "outputs": [
        {
          "output_type": "stream",
          "name": "stdout",
          "text": [
            "Customer Profile DataFrame:\n",
            "             Gender  Age  Income        Education   Region MaritalStatus\n",
            "CustomerID                                                             \n",
            "1001          Male   34   72000         Bachelor     East       Married\n",
            "1002        Female   28   65000           Master     West        Single\n",
            "1003        Female   45   95000              PhD  Central       Married\n",
            "1004          Male   52  120000           Master     East      Divorced\n",
            "1005        Female   21   35000      High School     West        Single\n",
            "1006          Male   39   85000         Bachelor  Central       Married\n",
            "1007        Female   31   67000         Bachelor    North        Single\n",
            "1008          Male   26   55000         Bachelor     East        Single\n",
            "1009        Female   48  110000           Master    South       Married\n",
            "1010          Male   33   78000           Master     West       Married\n",
            "1011        Female   29   59000         Bachelor  Central        Single\n",
            "1012          Male   41   92000              PhD     East       Married\n",
            "1013        Female   36   81000           Master    North      Divorced\n",
            "1014          Male   23   48000         Bachelor     West        Single\n",
            "1015        Female   37   76000           Master    South       Married\n",
            "1016          Male   44  105000              MBA     East       Married\n",
            "1017        Female   27   63000         Bachelor  Central        Single\n",
            "1018          Male   50  115000              PhD    North       Married\n",
            "1019        Female   32   69000           Master     East       Married\n",
            "1020          Male   35   79000           Master    South        Single\n",
            "1021        Female   42   97000        Doctorate     West      Divorced\n",
            "1022          Male   30   71000         Bachelor    North        Single\n",
            "1023        Female   49  125000              MBA  Central       Married\n",
            "1024          Male   38   83000         Bachelor    South       Married\n",
            "1025        Female   25   52000         Bachelor     East        Single\n",
            "1026          Male   43   99000        Doctorate     West       Married\n",
            "1027        Female   34   77000           Master  Central        Single\n",
            "1028          Male   31   68000  Culinary School    South       Married\n",
            "1029        Female   46  105000              PhD    North      Divorced\n",
            "1030          Male   29   64000         Bachelor     East        Single\n",
            "1031        Female   39   88000               JD     West       Married\n",
            "1032          Male   22   42000        Associate  Central        Single\n",
            "1033        Female   51  130000               MD    North       Married\n",
            "1034          Male   40   91000           Master     East      Divorced\n",
            "1035        Female   33   74000         Bachelor    South       Married\n",
            "1036          Male   47  108000         Bachelor     West       Married\n",
            "1037        Female   30   65000              PhD  Central        Single\n",
            "1038          Male   36   80000           Master    North       Married\n",
            "1039        Female   41   93000         Bachelor    South        Single\n",
            "1040          Male   24   51000        Associate     East        Single\n",
            "1041        Female   44  102000              MBA     West       Married\n",
            "1042          Male   37   82000           Master  Central       Married\n",
            "1043        Female   26   56000        Doctorate    North        Single\n",
            "1044          Male   53  135000              MBA    South       Married\n",
            "1045        Female   35   79000              PhD     East      Divorced\n",
            "1046          Male   32   70000           Master  Central        Single\n",
            "1047        Female   48  112000           Master     West       Married\n",
            "1048          Male   27   59000         Bachelor    South        Single\n",
            "1049        Female   38   84000           Master    North       Married\n",
            "1050          Male   42   95000         Bachelor     East       Married\n"
          ]
        }
      ],
      "source": [
        "# Create customer profile DataFrame\n",
        "# Create customer profile DataFrame by selecting specified columns and removing duplicates\n",
        "customer_profile = df[['CustomerID', 'Gender', 'Age', 'Income', 'Education', 'Region', 'MaritalStatus']].drop_duplicates()\n",
        "\n",
        "# Set CustomerID as the index (optional, for cleaner profile view)\n",
        "customer_profile = customer_profile.set_index('CustomerID')\n",
        "\n",
        "# Display the customer profile DataFrame\n",
        "print(\"Customer Profile DataFrame:\\n\", customer_profile)"
      ]
    },
    {
      "cell_type": "markdown",
      "metadata": {
        "id": "sOCOLd8xUh1y"
      },
      "source": [
        "## Part 3: Filtering Data (30 points)\n",
        "\n",
        "In this section, you will practice applying filters to extract specific subsets of data."
      ]
    },
    {
      "cell_type": "markdown",
      "metadata": {
        "id": "KgCYDGGDUh1y"
      },
      "source": [
        "### 3.1 Basic Filtering\n",
        "\n",
        "Apply filters to find the following information:\n",
        "\n",
        "1. Customers who are younger than 30 years old\n",
        "2. Purchases made in the 'Electronics' category with a price greater than $500\n",
        "3. Female customers who have made purchases in the 'Books' category\n",
        "4. Customers from the 'West' region who are married"
      ]
    },
    {
      "cell_type": "code",
      "execution_count": 85,
      "metadata": {
        "id": "y89CtCJmUh1y",
        "outputId": "d808a54c-0753-4a60-86fe-17a24c5ff653",
        "colab": {
          "base_uri": "https://localhost:8080/"
        }
      },
      "outputs": [
        {
          "output_type": "stream",
          "name": "stdout",
          "text": [
            "Customers younger than 30:\n",
            "     CustomerID  Gender  Age  Income    Education   Region MaritalStatus\n",
            "2         1002  Female   28   65000       Master     West        Single\n",
            "7         1005  Female   21   35000  High School     West        Single\n",
            "11        1008    Male   26   55000     Bachelor     East        Single\n",
            "14        1011  Female   29   59000     Bachelor  Central        Single\n",
            "18        1014    Male   23   48000     Bachelor     West        Single\n",
            "22        1017  Female   27   63000     Bachelor  Central        Single\n",
            "30        1025  Female   25   52000     Bachelor     East        Single\n",
            "35        1030    Male   29   64000     Bachelor     East        Single\n",
            "38        1032    Male   22   42000    Associate  Central        Single\n",
            "46        1040    Male   24   51000    Associate     East        Single\n",
            "49        1043  Female   26   56000    Doctorate    North        Single\n",
            "54        1048    Male   27   59000     Bachelor    South        Single\n"
          ]
        }
      ],
      "source": [
        "# Reset index if needed\n",
        "if df.index.name == 'CustomerID':\n",
        "    df = df.reset_index()\n",
        "\n",
        "# 1. Customers younger than 30\n",
        "young_customers = df[df['Age'] < 30][['CustomerID', 'Gender', 'Age', 'Income', 'Education', 'Region', 'MaritalStatus']].drop_duplicates()\n",
        "print(\"Customers younger than 30:\\n\", young_customers)"
      ]
    },
    {
      "cell_type": "code",
      "execution_count": 18,
      "metadata": {
        "id": "LNQ-EotvUh1z",
        "outputId": "35791d80-274c-4536-f919-51131b7a0e8c",
        "colab": {
          "base_uri": "https://localhost:8080/"
        }
      },
      "outputs": [
        {
          "output_type": "stream",
          "name": "stdout",
          "text": [
            "\n",
            "Electronics purchases over $500:\n",
            "     CustomerID  Gender  Age  Income               Occupation  Education   Region MaritalStatus PurchaseDate ProductID      ProductName     Category  Subcategory    Price  Quantity PaymentMethod\n",
            "0         1001    Male   34   72000                 Engineer   Bachelor     East       Married   2024-03-05      P001  Laptop HP Elite  Electronics    Computers  1200.50       1.0   Credit Card\n",
            "15        1012    Male   41   92000               Consultant        PhD     East       Married   2024-03-13      P112  Business Laptop  Electronics    Computers  1599.99       1.0   Credit Card\n",
            "19        1015  Female   37   76000                Marketing     Master    South       Married   2024-02-22      P145   Digital Camera  Electronics  Photography   699.95       1.0   Credit Card\n",
            "38        1032    Male   22   42000  Social Media Specialist  Associate  Central        Single   2024-02-20      P334       Smartphone  Electronics       Mobile   899.00       1.0   Credit Card\n"
          ]
        }
      ],
      "source": [
        "# 2. Electronics purchases with price > $500\n",
        "electronics_expensive = df[(df['Category'] == 'Electronics') & (df['Price'] > 500)]\n",
        "print(\"\\nElectronics purchases over $500:\\n\", electronics_expensive)"
      ]
    },
    {
      "cell_type": "code",
      "execution_count": 19,
      "metadata": {
        "id": "5e8IoEs9Uh1z",
        "outputId": "1dba6895-62e5-4454-9af0-57854e7321f6",
        "colab": {
          "base_uri": "https://localhost:8080/"
        }
      },
      "outputs": [
        {
          "output_type": "stream",
          "name": "stdout",
          "text": [
            "\n",
            "Female customers purchasing Books:\n",
            "     CustomerID  Gender  Age  Income Education Region MaritalStatus               ProductName  Price\n",
            "34        1029  Female   46  105000       PhD  North      Divorced          Psychology Books  175.0\n",
            "37        1031  Female   39   88000        JD   West       Married     Legal Reference Books  220.0\n",
            "47        1041  Female   44  102000       MBA   West       Married  Marketing Strategy Books  110.0\n",
            "53        1047  Female   48  112000    Master   West       Married       HR Management Books  120.0\n",
            "55        1049  Female   38   84000    Master  North       Married           Nutrition Books   95.0\n"
          ]
        }
      ],
      "source": [
        "# 3. Female customers who purchased books\n",
        "female_books = df[(df['Gender'] == 'Female') & (df['Category'] == 'Books')][['CustomerID', 'Gender', 'Age', 'Income', 'Education', 'Region', 'MaritalStatus', 'ProductName', 'Price']].drop_duplicates()\n",
        "print(\"\\nFemale customers purchasing Books:\\n\", female_books)"
      ]
    },
    {
      "cell_type": "code",
      "execution_count": 20,
      "metadata": {
        "id": "hhcWiSZuUh1z",
        "outputId": "3fd62e17-a61c-4dee-e024-8cdc0b777fb5",
        "colab": {
          "base_uri": "https://localhost:8080/"
        }
      },
      "outputs": [
        {
          "output_type": "stream",
          "name": "stdout",
          "text": [
            "\n",
            "Married customers from West region:\n",
            "     CustomerID  Gender  Age  Income  Education Region MaritalStatus\n",
            "13        1010    Male   33   78000     Master   West       Married\n",
            "31        1026    Male   43   99000  Doctorate   West       Married\n",
            "37        1031  Female   39   88000         JD   West       Married\n",
            "42        1036    Male   47  108000   Bachelor   West       Married\n",
            "47        1041  Female   44  102000        MBA   West       Married\n",
            "53        1047  Female   48  112000     Master   West       Married\n"
          ]
        }
      ],
      "source": [
        "# 4. Married customers from West region\n",
        "west_married = df[(df['Region'] == 'West') & (df['MaritalStatus'] == 'Married')][['CustomerID', 'Gender', 'Age', 'Income', 'Education', 'Region', 'MaritalStatus']].drop_duplicates()\n",
        "print(\"\\nMarried customers from West region:\\n\", west_married)"
      ]
    },
    {
      "cell_type": "markdown",
      "metadata": {
        "id": "w-km_x_CUh1z"
      },
      "source": [
        "### 3.2 Advanced Filtering\n",
        "\n",
        "Now let's apply more complex filtering conditions:\n",
        "\n",
        "1. Find high-value customers (Income > $90,000) who have made purchases in the 'Furniture' or 'Electronics' categories\n",
        "2. Find customers who made purchases in January 2024 (hint: extract month and year from the PurchaseDate)\n",
        "3. Find customers who have made multiple purchases (more than one transaction)\n",
        "4. Find the top 5 most expensive products purchased using 'Credit Card' as the payment method"
      ]
    },
    {
      "cell_type": "code",
      "execution_count": 21,
      "metadata": {
        "id": "RRsuFgCDUh1z",
        "outputId": "f481080b-3f79-411b-a326-837c27eaeef1",
        "colab": {
          "base_uri": "https://localhost:8080/"
        }
      },
      "outputs": [
        {
          "output_type": "stream",
          "name": "stdout",
          "text": [
            "High-value customers (Income > $90,000) in Furniture or Electronics:\n",
            "     CustomerID  Gender  Age  Income Education   Region MaritalStatus     Category\n",
            "5         1003  Female   45   95000       PhD  Central       Married  Electronics\n",
            "12        1009  Female   48  110000    Master    South       Married    Furniture\n",
            "15        1012    Male   41   92000       PhD     East       Married  Electronics\n",
            "16        1012    Male   41   92000       PhD     East       Married    Furniture\n",
            "50        1044    Male   53  135000       MBA    South       Married    Furniture\n"
          ]
        }
      ],
      "source": [
        "# 1. High-value customers who purchased Furniture or Electronics\n",
        "high_value_customers = df[(df['Income'] > 90000) & (df['Category'].isin(['Furniture', 'Electronics']))][['CustomerID', 'Gender', 'Age', 'Income', 'Education', 'Region', 'MaritalStatus', 'Category']].drop_duplicates()\n",
        "print(\"High-value customers (Income > $90,000) in Furniture or Electronics:\\n\", high_value_customers)"
      ]
    },
    {
      "cell_type": "code",
      "execution_count": 22,
      "metadata": {
        "id": "XxMeVIQYUh1z",
        "outputId": "eb3105d0-a6fa-4a95-ccd4-3d7c38f892be",
        "colab": {
          "base_uri": "https://localhost:8080/"
        }
      },
      "outputs": [
        {
          "output_type": "stream",
          "name": "stdout",
          "text": [
            "\n",
            "Purchases in January 2024:\n",
            "     CustomerID  Gender  Age  Income Education   Region MaritalStatus PurchaseDate     ProductName\n",
            "5         1003  Female   45   95000       PhD  Central       Married   2024-01-22     Smart Watch\n",
            "16        1012    Male   41   92000       PhD     East       Married   2024-01-15    Dining Table\n",
            "36        1030    Male   29   64000  Bachelor     East        Single   2024-01-25  Protein Powder\n"
          ]
        }
      ],
      "source": [
        "# Convert PurchaseDate to datetime if not already\n",
        "if not pd.api.types.is_datetime64_dtype(df['PurchaseDate']):\n",
        "    df['PurchaseDate'] = pd.to_datetime(df['PurchaseDate'])\n",
        "\n",
        "# 2. Customers who made purchases in January 2024\n",
        "jan_2024_purchases = df[(df['PurchaseDate'].dt.year == 2024) & (df['PurchaseDate'].dt.month == 1)][['CustomerID', 'Gender', 'Age', 'Income', 'Education', 'Region', 'MaritalStatus', 'PurchaseDate', 'ProductName']].drop_duplicates()\n",
        "print(\"\\nPurchases in January 2024:\\n\", jan_2024_purchases)"
      ]
    },
    {
      "cell_type": "code",
      "execution_count": 23,
      "metadata": {
        "id": "kY2PGRz_Uh1z",
        "outputId": "2604a6b9-63cf-40b2-c728-87b6729baf71",
        "colab": {
          "base_uri": "https://localhost:8080/"
        }
      },
      "outputs": [
        {
          "output_type": "stream",
          "name": "stdout",
          "text": [
            "\n",
            "Customers with multiple purchases:\n",
            "     CustomerID  Gender  Age  Income    Education   Region MaritalStatus\n",
            "0         1001    Male   34   72000     Bachelor     East       Married\n",
            "3         1003  Female   45   95000          PhD  Central       Married\n",
            "7         1005  Female   21   35000  High School     West        Single\n",
            "15        1012    Male   41   92000          PhD     East       Married\n",
            "20        1016    Male   44  105000          MBA     East       Married\n",
            "35        1030    Male   29   64000     Bachelor     East        Single\n"
          ]
        }
      ],
      "source": [
        "# 3. Customers with multiple purchases\n",
        "purchase_counts = df['CustomerID'].value_counts()\n",
        "multiple_purchases = df[df['CustomerID'].isin(purchase_counts[purchase_counts > 1].index)][['CustomerID', 'Gender', 'Age', 'Income', 'Education', 'Region', 'MaritalStatus']].drop_duplicates()\n",
        "print(\"\\nCustomers with multiple purchases:\\n\", multiple_purchases)"
      ]
    },
    {
      "cell_type": "code",
      "execution_count": 24,
      "metadata": {
        "id": "J0wrZvbkUh10",
        "outputId": "00ca957f-bb5a-45de-fe38-c10baefe5e04",
        "colab": {
          "base_uri": "https://localhost:8080/"
        }
      },
      "outputs": [
        {
          "output_type": "stream",
          "name": "stdout",
          "text": [
            "\n",
            "Top 5 most expensive products purchased with Credit Card:\n",
            "         ProductName    Price  CustomerID PurchaseDate\n",
            "15  Business Laptop  1599.99        1012   2024-03-13\n",
            "0   Laptop HP Elite  1200.50        1001   2024-03-05\n",
            "51    Lab Equipment   975.00        1045   2024-03-12\n",
            "38       Smartphone   899.00        1032   2024-02-20\n",
            "19   Digital Camera   699.95        1015   2024-02-22\n"
          ]
        }
      ],
      "source": [
        "# 4. Top 5 most expensive products purchased with Credit Card\n",
        "top_expensive_credit = df[df['PaymentMethod'] == 'Credit Card'][['ProductName', 'Price', 'CustomerID', 'PurchaseDate']].nlargest(5, 'Price')\n",
        "print(\"\\nTop 5 most expensive products purchased with Credit Card:\\n\", top_expensive_credit)"
      ]
    },
    {
      "cell_type": "markdown",
      "metadata": {
        "id": "RSAQ2YxyUh10"
      },
      "source": [
        "### 3.3 Practical Application: Customer Segmentation\n",
        "\n",
        "Use filtering to segment customers based on the following criteria:\n",
        "\n",
        "1. Create a 'CustomerValue' column that categorizes customers as follows:\n",
        "   - 'High': Income > $90,000\n",
        "   - 'Medium': Income between $60,000 and $90,000\n",
        "   - 'Low': Income < $60,000\n",
        "   \n",
        "2. Create a 'AgeGroup' column that categorizes customers as follows:\n",
        "   - 'Young': Age < 30\n",
        "   - 'Middle-aged': Age between 30 and 45\n",
        "   - 'Senior': Age > 45\n",
        "   \n",
        "3. Create a 'PurchaseFrequency' column that categorizes customers as follows:\n",
        "   - 'Frequent': More than 2 purchases\n",
        "   - 'Occasional': 1-2 purchases\n",
        "\n",
        "4. Create a cross-tabulation of CustomerValue and AgeGroup to see the distribution of customers"
      ]
    },
    {
      "cell_type": "code",
      "execution_count": 83,
      "metadata": {
        "id": "9_EvOHN8Uh10"
      },
      "outputs": [],
      "source": [
        "# Create customer profile DataFrame if not already created\n",
        "if 'customer_profiles' not in locals():\n",
        "    customer_profiles = df[['CustomerID', 'Gender', 'Age', 'Income', 'Education', 'Region', 'MaritalStatus']].drop_duplicates(subset=['CustomerID'])\n",
        "\n",
        "# 1. Create CustomerValue column\n",
        "customer_profiles['CustomerValue'] = pd.cut(\n",
        "    customer_profiles['Income'],\n",
        "    bins=[0, 60000, 90000, float('inf')],\n",
        "    labels=['Low', 'Medium', 'High'],\n",
        "    include_lowest=True\n",
        ")"
      ]
    },
    {
      "cell_type": "code",
      "execution_count": 82,
      "metadata": {
        "id": "Jai8VtQgUh10"
      },
      "outputs": [],
      "source": [
        "# 2. Create AgeGroup column\n",
        "df['AgeGroup'] = pd.cut(\n",
        "df['Age'],\n",
        "        bins=[-float('inf'), 30, 45, float('inf')],\n",
        "        labels=['Young', 'Middle-aged', 'Senior'],\n",
        "        include_lowest=True\n",
        ")"
      ]
    },
    {
      "cell_type": "code",
      "execution_count": 39,
      "metadata": {
        "id": "BSCebtE6Uh10"
      },
      "outputs": [],
      "source": [
        "# 3. Create PurchaseFrequency column\n",
        "purchase_counts = df['CustomerID'].value_counts()\n",
        "df['PurchaseFrequency'] = df['CustomerID'].map(\n",
        "    lambda x: 'Frequent' if purchase_counts[x] > 2 else 'Occasional'\n",
        ")"
      ]
    },
    {
      "cell_type": "code",
      "execution_count": 40,
      "metadata": {
        "id": "1eLqt5ShUh10",
        "outputId": "b4b8b0dc-4bb1-4a68-ba5e-7a658199e72a",
        "colab": {
          "base_uri": "https://localhost:8080/"
        }
      },
      "outputs": [
        {
          "output_type": "stream",
          "name": "stdout",
          "text": [
            "Cross-tabulation of CustomerValue and AgeGroup:\n",
            " AgeGroup       Young  Middle-aged  Senior\n",
            "CustomerValue                            \n",
            "Low                9            0       0\n",
            "Medium             5           18       0\n",
            "High               0            9       9\n"
          ]
        }
      ],
      "source": [
        "# 4. Create cross-tabulation\n",
        "cross_tab = pd.crosstab(df[['CustomerID', 'CustomerValue', 'AgeGroup']].drop_duplicates()['CustomerValue'],\n",
        "                        df[['CustomerID', 'CustomerValue', 'AgeGroup']].drop_duplicates()['AgeGroup'])\n",
        "print(\"Cross-tabulation of CustomerValue and AgeGroup:\\n\", cross_tab)"
      ]
    },
    {
      "cell_type": "markdown",
      "metadata": {
        "id": "rnB0eP1CUh16"
      },
      "source": [
        "## Part 4: Handling Missing Values (30 points)\n",
        "\n",
        "In this section, you will identify and handle missing values in the dataset."
      ]
    },
    {
      "cell_type": "markdown",
      "metadata": {
        "id": "aMV9i9nyUh16"
      },
      "source": [
        "### 4.1 Identifying Missing Values\n",
        "\n",
        "Let's first identify all missing values in the dataset:\n",
        "\n",
        "1. Calculate the number of missing values in each column\n",
        "2. Calculate the percentage of missing values in each column\n",
        "3. Create a visualization to illustrate the missing values pattern"
      ]
    },
    {
      "cell_type": "code",
      "execution_count": 41,
      "metadata": {
        "id": "Oi2pHXxxUh16",
        "outputId": "a6ce4d19-236a-41a7-d07b-bc7f898b2948",
        "colab": {
          "base_uri": "https://localhost:8080/"
        }
      },
      "outputs": [
        {
          "output_type": "stream",
          "name": "stdout",
          "text": [
            "Missing Values Count:\n",
            " CustomerID           0\n",
            "Gender               0\n",
            "Age                  0\n",
            "Income               0\n",
            "Occupation           0\n",
            "Education            0\n",
            "Region               0\n",
            "MaritalStatus        0\n",
            "PurchaseDate         0\n",
            "ProductID            0\n",
            "ProductName          0\n",
            "Category             0\n",
            "Subcategory          0\n",
            "Price                0\n",
            "Quantity             2\n",
            "PaymentMethod        0\n",
            "CustomerValue        0\n",
            "AgeGroup             0\n",
            "PurchaseFrequency    0\n",
            "dtype: int64\n"
          ]
        }
      ],
      "source": [
        "# 1. Count missing values in each column\n",
        "missing_values_count = df.isnull().sum()\n",
        "print(\"Missing Values Count:\\n\", missing_values_count)"
      ]
    },
    {
      "cell_type": "code",
      "execution_count": 42,
      "metadata": {
        "id": "qeGlUQ4QUh17",
        "outputId": "63787aed-d201-4007-fbac-0be4462bb6c2",
        "colab": {
          "base_uri": "https://localhost:8080/"
        }
      },
      "outputs": [
        {
          "output_type": "stream",
          "name": "stdout",
          "text": [
            "\n",
            "Missing Values Percentage:\n",
            " CustomerID           0.000000\n",
            "Gender               0.000000\n",
            "Age                  0.000000\n",
            "Income               0.000000\n",
            "Occupation           0.000000\n",
            "Education            0.000000\n",
            "Region               0.000000\n",
            "MaritalStatus        0.000000\n",
            "PurchaseDate         0.000000\n",
            "ProductID            0.000000\n",
            "ProductName          0.000000\n",
            "Category             0.000000\n",
            "Subcategory          0.000000\n",
            "Price                0.000000\n",
            "Quantity             3.508772\n",
            "PaymentMethod        0.000000\n",
            "CustomerValue        0.000000\n",
            "AgeGroup             0.000000\n",
            "PurchaseFrequency    0.000000\n",
            "dtype: float64\n"
          ]
        }
      ],
      "source": [
        "# 2. Calculate percentage of missing values\n",
        "missing_values_percentage = (missing_values_count / len(df)) * 100\n",
        "print(\"\\nMissing Values Percentage:\\n\", missing_values_percentage)"
      ]
    },
    {
      "cell_type": "code",
      "execution_count": 47,
      "metadata": {
        "id": "dKzyBHUCUh17",
        "outputId": "e1c5d045-dffb-4c09-bb79-3fbbbd4abc35",
        "colab": {
          "base_uri": "https://localhost:8080/"
        }
      },
      "outputs": [
        {
          "output_type": "stream",
          "name": "stdout",
          "text": [
            "Requirement already satisfied: missingno in /usr/local/lib/python3.11/dist-packages (0.5.2)\n",
            "Requirement already satisfied: numpy in /usr/local/lib/python3.11/dist-packages (from missingno) (2.0.2)\n",
            "Requirement already satisfied: matplotlib in /usr/local/lib/python3.11/dist-packages (from missingno) (3.10.0)\n",
            "Requirement already satisfied: scipy in /usr/local/lib/python3.11/dist-packages (from missingno) (1.15.3)\n",
            "Requirement already satisfied: seaborn in /usr/local/lib/python3.11/dist-packages (from missingno) (0.13.2)\n",
            "Requirement already satisfied: contourpy>=1.0.1 in /usr/local/lib/python3.11/dist-packages (from matplotlib->missingno) (1.3.2)\n",
            "Requirement already satisfied: cycler>=0.10 in /usr/local/lib/python3.11/dist-packages (from matplotlib->missingno) (0.12.1)\n",
            "Requirement already satisfied: fonttools>=4.22.0 in /usr/local/lib/python3.11/dist-packages (from matplotlib->missingno) (4.58.0)\n",
            "Requirement already satisfied: kiwisolver>=1.3.1 in /usr/local/lib/python3.11/dist-packages (from matplotlib->missingno) (1.4.8)\n",
            "Requirement already satisfied: packaging>=20.0 in /usr/local/lib/python3.11/dist-packages (from matplotlib->missingno) (24.2)\n",
            "Requirement already satisfied: pillow>=8 in /usr/local/lib/python3.11/dist-packages (from matplotlib->missingno) (11.2.1)\n",
            "Requirement already satisfied: pyparsing>=2.3.1 in /usr/local/lib/python3.11/dist-packages (from matplotlib->missingno) (3.2.3)\n",
            "Requirement already satisfied: python-dateutil>=2.7 in /usr/local/lib/python3.11/dist-packages (from matplotlib->missingno) (2.9.0.post0)\n",
            "Requirement already satisfied: pandas>=1.2 in /usr/local/lib/python3.11/dist-packages (from seaborn->missingno) (2.2.2)\n",
            "Requirement already satisfied: pytz>=2020.1 in /usr/local/lib/python3.11/dist-packages (from pandas>=1.2->seaborn->missingno) (2025.2)\n",
            "Requirement already satisfied: tzdata>=2022.7 in /usr/local/lib/python3.11/dist-packages (from pandas>=1.2->seaborn->missingno) (2025.2)\n",
            "Requirement already satisfied: six>=1.5 in /usr/local/lib/python3.11/dist-packages (from python-dateutil>=2.7->matplotlib->missingno) (1.17.0)\n"
          ]
        }
      ],
      "source": [
        "# 3. Visualize missing values\n",
        "# Create a heatmap of missing values\n",
        "!pip install missingno"
      ]
    },
    {
      "cell_type": "markdown",
      "metadata": {
        "id": "qklq2KZQUh17"
      },
      "source": [
        "### 4.2 Handling Missing Values\n",
        "\n",
        "Now, let's apply different techniques to handle missing values:\n",
        "\n",
        "1. Create a new DataFrame with rows that have missing values\n",
        "2. Create a new DataFrame with rows that have no missing values\n",
        "3. Fill missing Quantity values with the median quantity for that product category\n",
        "4. Fill missing Price values with the mean price for that product category"
      ]
    },
    {
      "cell_type": "code",
      "execution_count": 48,
      "metadata": {
        "id": "2gXLmHDLUh17",
        "outputId": "f01047e1-0213-4040-9215-62ed4311d02d",
        "colab": {
          "base_uri": "https://localhost:8080/"
        }
      },
      "outputs": [
        {
          "output_type": "stream",
          "name": "stdout",
          "text": [
            "Rows with missing values:\n",
            "    CustomerID  Gender  Age  Income Occupation Education   Region MaritalStatus PurchaseDate ProductID           ProductName Category Subcategory   Price  Quantity PaymentMethod CustomerValue     AgeGroup PurchaseFrequency\n",
            "3        1003  Female   45   95000     Doctor       PhD  Central       Married   2024-03-07      P023          Coffee Maker     Home     Kitchen  149.99       NaN    Debit Card          High  Middle-aged          Frequent\n",
            "9        1006    Male   39   85000    Manager  Bachelor  Central       Married   2024-03-02      P056  Professional Blender     Home     Kitchen  299.95       NaN   Credit Card        Medium  Middle-aged        Occasional\n"
          ]
        }
      ],
      "source": [
        "# 1. Rows with missing values\n",
        "rows_with_missing = df[df.isnull().any(axis=1)]\n",
        "print(\"Rows with missing values:\\n\", rows_with_missing)"
      ]
    },
    {
      "cell_type": "code",
      "execution_count": 49,
      "metadata": {
        "id": "T8LrknUxUh17",
        "outputId": "c38809d4-889d-4f1d-fde8-88a6aa689c5d",
        "colab": {
          "base_uri": "https://localhost:8080/"
        }
      },
      "outputs": [
        {
          "output_type": "stream",
          "name": "stdout",
          "text": [
            "\n",
            "Rows with no missing values:\n",
            "     CustomerID  Gender  Age  Income                Occupation Education   Region MaritalStatus PurchaseDate ProductID             ProductName     Category   Subcategory    Price  Quantity  PaymentMethod CustomerValue     AgeGroup PurchaseFrequency\n",
            "0         1001    Male   34   72000                  Engineer  Bachelor     East       Married   2024-03-05      P001         Laptop HP Elite  Electronics     Computers  1200.50       1.0    Credit Card        Medium  Middle-aged        Occasional\n",
            "1         1001    Male   34   72000                  Engineer  Bachelor     East       Married   2024-02-15      P045     External Hard Drive  Electronics   Accessories    89.99       2.0    Credit Card        Medium  Middle-aged        Occasional\n",
            "2         1002  Female   28   65000                   Teacher    Master     West        Single   2024-03-10      P012                Yoga Mat       Sports       Fitness    35.50       1.0         PayPal        Medium        Young        Occasional\n",
            "4         1003  Female   45   95000                    Doctor       PhD  Central       Married   2024-03-15      P056    Professional Blender         Home       Kitchen   299.95       1.0    Credit Card          High  Middle-aged          Frequent\n",
            "5         1003  Female   45   95000                    Doctor       PhD  Central       Married   2024-01-22      P078             Smart Watch  Electronics     Wearables   249.99       1.0     Debit Card          High  Middle-aged          Frequent\n",
            "..         ...     ...  ...     ...                       ...       ...      ...           ...          ...       ...                     ...          ...           ...      ...       ...            ...           ...          ...               ...\n",
            "52        1046    Male   32   70000            Civil Engineer    Master  Central        Single   2024-03-03      P478    Engineering Software     Software  Professional  1200.00       1.0  Bank Transfer        Medium  Middle-aged        Occasional\n",
            "53        1047  Female   48  112000  Human Resources Director    Master     West       Married   2024-02-25      P489     HR Management Books        Books  Professional   120.00       2.0    Credit Card          High       Senior        Occasional\n",
            "54        1048    Male   27   59000             Web Developer  Bachelor    South        Single   2024-03-17      P490  Web Development Course     Services     Education   349.00       1.0         PayPal           Low        Young        Occasional\n",
            "55        1049  Female   38   84000              Nutritionist    Master    North       Married   2024-03-10      P501         Nutrition Books        Books        Health    95.00       2.0     Debit Card        Medium  Middle-aged        Occasional\n",
            "56        1050    Male   42   95000             Sales Manager  Bachelor     East       Married   2024-02-28      P512            CRM Software     Software      Business   399.00       1.0    Credit Card          High  Middle-aged        Occasional\n",
            "\n",
            "[55 rows x 19 columns]\n"
          ]
        }
      ],
      "source": [
        "# 2. Rows with no missing values\n",
        "rows_without_missing = df.dropna()\n",
        "print(\"\\nRows with no missing values:\\n\", rows_without_missing)"
      ]
    },
    {
      "cell_type": "code",
      "execution_count": 52,
      "metadata": {
        "id": "e3N8FT-kUh17",
        "outputId": "67c8b9c3-6e20-4107-92f1-c16262acce84",
        "colab": {
          "base_uri": "https://localhost:8080/"
        }
      },
      "outputs": [
        {
          "output_type": "stream",
          "name": "stdout",
          "text": [
            "\n",
            "DataFrame after Filling Missing Quantity with Category Median:\n",
            "    CustomerID     Category  Quantity\n",
            "0        1001  Electronics       1.0\n",
            "1        1001  Electronics       2.0\n",
            "2        1002       Sports       1.0\n",
            "3        1003         Home       1.0\n",
            "4        1003         Home       1.0\n"
          ]
        }
      ],
      "source": [
        "# 3. Fill missing Quantity with median by category\n",
        "df['Quantity'] = df.groupby('Category')['Quantity'].transform(lambda x: x.fillna(x.median()))\n",
        "print(\"\\nDataFrame after Filling Missing Quantity with Category Median:\\n\", df[['CustomerID', 'Category', 'Quantity']].head())"
      ]
    },
    {
      "cell_type": "code",
      "execution_count": 53,
      "metadata": {
        "id": "uVgH7RFzUh18",
        "outputId": "594a66b7-fdec-4fe5-9bb7-203abaa8f478",
        "colab": {
          "base_uri": "https://localhost:8080/"
        }
      },
      "outputs": [
        {
          "output_type": "stream",
          "name": "stdout",
          "text": [
            "\n",
            "DataFrame after Filling Missing Price with Category Mean:\n",
            "    CustomerID     Category    Price\n",
            "0        1001  Electronics  1200.50\n",
            "1        1001  Electronics    89.99\n",
            "2        1002       Sports    35.50\n",
            "3        1003         Home   149.99\n",
            "4        1003         Home   299.95\n"
          ]
        }
      ],
      "source": [
        "# 4. Fill missing Price with mean by category\n",
        "df['Price'] = df.groupby('Category')['Price'].transform(lambda x: x.fillna(x.mean()))\n",
        "print(\"\\nDataFrame after Filling Missing Price with Category Mean:\\n\", df[['CustomerID', 'Category', 'Price']].head())"
      ]
    },
    {
      "cell_type": "markdown",
      "metadata": {
        "id": "wccYvCBGUh18"
      },
      "source": [
        "### 4.3 Practical Application: Creating a Clean Dataset\n",
        "\n",
        "Create a clean version of the dataset by applying the following steps:\n",
        "\n",
        "1. Fill missing Quantity values with the median quantity for that product category\n",
        "2. Fill missing Price values with the mean price for that product category\n",
        "3. Create a 'TotalAmount' column that multiplies Price by Quantity\n",
        "4. Convert PurchaseDate to datetime format if not already\n",
        "5. Create a 'PurchaseMonth' and 'PurchaseYear' column\n",
        "6. Create a 'CustomerSpend' DataFrame that shows the total amount spent by each customer"
      ]
    },
    {
      "cell_type": "code",
      "execution_count": 56,
      "metadata": {
        "id": "IcQ2vjO4Uh18",
        "outputId": "d1af6cd1-1aba-44e9-da55-0b823e3ee1db",
        "colab": {
          "base_uri": "https://localhost:8080/"
        }
      },
      "outputs": [
        {
          "output_type": "stream",
          "name": "stdout",
          "text": [
            "DataFrame after Filling Missing Quantity with Category Median:\n",
            "    CustomerID     Category  Quantity\n",
            "0        1001  Electronics       1.0\n",
            "1        1001  Electronics       2.0\n",
            "2        1002       Sports       1.0\n",
            "3        1003         Home       1.0\n",
            "4        1003         Home       1.0\n"
          ]
        }
      ],
      "source": [
        "# Create a copy of the DataFrame to work with\n",
        "clean_df = df.copy()\n",
        "\n",
        "# 1. Fill missing Quantity values\n",
        "clean_df['Quantity'] = clean_df.groupby('Category')['Quantity'].transform(lambda x: x.fillna(x.median()))\n",
        "print(\"DataFrame after Filling Missing Quantity with Category Median:\\n\", clean_df[['CustomerID', 'Category', 'Quantity']].head())"
      ]
    },
    {
      "cell_type": "code",
      "execution_count": 57,
      "metadata": {
        "id": "Irnd2HohUh18",
        "outputId": "a8e7bea0-fe78-4266-fb9d-c72f24dfd899",
        "colab": {
          "base_uri": "https://localhost:8080/"
        }
      },
      "outputs": [
        {
          "output_type": "stream",
          "name": "stdout",
          "text": [
            "\n",
            "DataFrame after Filling Missing Price with Category Mean:\n",
            "    CustomerID     Category    Price\n",
            "0        1001  Electronics  1200.50\n",
            "1        1001  Electronics    89.99\n",
            "2        1002       Sports    35.50\n",
            "3        1003         Home   149.99\n",
            "4        1003         Home   299.95\n"
          ]
        }
      ],
      "source": [
        "# 2. Fill missing Price values\n",
        "clean_df['Price'] = clean_df.groupby('Category')['Price'].transform(lambda x: x.fillna(x.mean()))\n",
        "print(\"\\nDataFrame after Filling Missing Price with Category Mean:\\n\", clean_df[['CustomerID', 'Category', 'Price']].head())"
      ]
    },
    {
      "cell_type": "code",
      "execution_count": 58,
      "metadata": {
        "id": "qGM8_wztUh18",
        "outputId": "8759d215-f692-40f6-dd3a-b1881c495fb7",
        "colab": {
          "base_uri": "https://localhost:8080/"
        }
      },
      "outputs": [
        {
          "output_type": "stream",
          "name": "stdout",
          "text": [
            "\n",
            "DataFrame with TotalAmount column:\n",
            "    CustomerID     Category    Price  Quantity  TotalAmount\n",
            "0        1001  Electronics  1200.50       1.0      1200.50\n",
            "1        1001  Electronics    89.99       2.0       179.98\n",
            "2        1002       Sports    35.50       1.0        35.50\n",
            "3        1003         Home   149.99       1.0       149.99\n",
            "4        1003         Home   299.95       1.0       299.95\n"
          ]
        }
      ],
      "source": [
        "# 3. Create TotalAmount column\n",
        "clean_df['TotalAmount'] = clean_df['Price'] * clean_df['Quantity']\n",
        "print(\"\\nDataFrame with TotalAmount column:\\n\", clean_df[['CustomerID', 'Category', 'Price', 'Quantity', 'TotalAmount']].head())"
      ]
    },
    {
      "cell_type": "code",
      "execution_count": 59,
      "metadata": {
        "id": "mJ2HNGrcUh18",
        "outputId": "6099151f-42b1-4f43-d9b6-0be55bda5375",
        "colab": {
          "base_uri": "https://localhost:8080/"
        }
      },
      "outputs": [
        {
          "output_type": "stream",
          "name": "stdout",
          "text": [
            "\n",
            "DataFrame with PurchaseDate in datetime format:\n",
            "    CustomerID PurchaseDate\n",
            "0        1001   2024-03-05\n",
            "1        1001   2024-02-15\n",
            "2        1002   2024-03-10\n",
            "3        1003   2024-03-07\n",
            "4        1003   2024-03-15\n"
          ]
        }
      ],
      "source": [
        "# 4. Convert PurchaseDate to datetime\n",
        "clean_df['PurchaseDate'] = pd.to_datetime(clean_df['PurchaseDate'])\n",
        "print(\"\\nDataFrame with PurchaseDate in datetime format:\\n\", clean_df[['CustomerID', 'PurchaseDate']].head())"
      ]
    },
    {
      "cell_type": "code",
      "execution_count": 63,
      "metadata": {
        "id": "a2hrfRpzUh18",
        "outputId": "906ad064-f268-4c83-cb3e-9a0870645ff3",
        "colab": {
          "base_uri": "https://localhost:8080/"
        }
      },
      "outputs": [
        {
          "output_type": "stream",
          "name": "stdout",
          "text": [
            "\n",
            "DataFrame with PurchaseMonth and PurchaseYear columns:\n",
            "    CustomerID PurchaseDate  PurchaseMonth  PurchaseYear\n",
            "0        1001   2024-03-05              3          2024\n",
            "1        1001   2024-02-15              2          2024\n",
            "2        1002   2024-03-10              3          2024\n",
            "3        1003   2024-03-07              3          2024\n",
            "4        1003   2024-03-15              3          2024\n"
          ]
        }
      ],
      "source": [
        "# 5. Create PurchaseMonth and PurchaseYear columns\n",
        "clean_df['PurchaseMonth'] = clean_df['PurchaseDate'].dt.month\n",
        "clean_df['PurchaseYear'] = clean_df['PurchaseDate'].dt.year\n",
        "print(\"\\nDataFrame with PurchaseMonth and PurchaseYear columns:\\n\", clean_df[['CustomerID', 'PurchaseDate', 'PurchaseMonth', 'PurchaseYear']].head())"
      ]
    },
    {
      "cell_type": "code",
      "execution_count": 62,
      "metadata": {
        "id": "-7aLOKPMUh19",
        "outputId": "7b0ad562-f46a-4cdd-dc1c-cc5b73c1c03d",
        "colab": {
          "base_uri": "https://localhost:8080/"
        }
      },
      "outputs": [
        {
          "output_type": "stream",
          "name": "stdout",
          "text": [
            "\n",
            "CustomerSpend DataFrame:\n",
            "    CustomerID  CustomerSpend\n",
            "0        1001        1380.48\n",
            "1        1002          35.50\n",
            "2        1003         699.93\n",
            "3        1004         599.99\n",
            "4        1005         219.94\n"
          ]
        }
      ],
      "source": [
        "# 6. Create CustomerSpend DataFrame\n",
        "customer_spend = clean_df.groupby('CustomerID')['TotalAmount'].sum().reset_index()\n",
        "customer_spend.columns = ['CustomerID', 'CustomerSpend']\n",
        "print(\"\\nCustomerSpend DataFrame:\\n\", customer_spend.head())"
      ]
    },
    {
      "cell_type": "markdown",
      "metadata": {
        "id": "eYhii53XUh19"
      },
      "source": [
        "## Bonus Challenge (10 extra points)\n",
        "\n",
        "Analyze the purchasing patterns of customers based on demographic factors:\n",
        "\n",
        "1. For each age group, determine the most popular product category (by number of purchases)\n",
        "2. For each income level ('High', 'Medium', 'Low'), calculate the average spend per purchase\n",
        "3. Compare spending patterns between male and female customers across different product categories\n",
        "4. Identify which regions have the highest average purchase amounts"
      ]
    },
    {
      "cell_type": "code",
      "source": [],
      "metadata": {
        "id": "BW2sd8YZgyTL"
      },
      "execution_count": null,
      "outputs": []
    },
    {
      "cell_type": "code",
      "execution_count": 66,
      "metadata": {
        "id": "hjQd0YBMUh19",
        "outputId": "d1661a25-0b88-4d2f-abd4-6a04d3d0786e",
        "colab": {
          "base_uri": "https://localhost:8080/"
        }
      },
      "outputs": [
        {
          "output_type": "stream",
          "name": "stdout",
          "text": [
            "\n",
            "Most Popular Product Category by Age Group:\n",
            "        AgeGroup     Category  PurchaseCount\n",
            "3         Young  Electronics              9\n",
            "17  Middle-aged  Electronics              8\n",
            "29       Senior        Books              3\n"
          ]
        },
        {
          "output_type": "stream",
          "name": "stderr",
          "text": [
            "<ipython-input-66-51182346b2f7>:2: FutureWarning: The default of observed=False is deprecated and will be changed to True in a future version of pandas. Pass observed=False to retain current behavior or observed=True to adopt the future default and silence this warning.\n",
            "  popular_category_by_age = df.groupby(['AgeGroup', 'Category']).size().reset_index(name='PurchaseCount')\n",
            "<ipython-input-66-51182346b2f7>:3: FutureWarning: The default of observed=False is deprecated and will be changed to True in a future version of pandas. Pass observed=False to retain current behavior or observed=True to adopt the future default and silence this warning.\n",
            "  popular_category_by_age = popular_category_by_age.loc[popular_category_by_age.groupby('AgeGroup')['PurchaseCount'].idxmax()]\n"
          ]
        }
      ],
      "source": [
        "# 1. Most popular product category by age group\n",
        "popular_category_by_age = df.groupby(['AgeGroup', 'Category']).size().reset_index(name='PurchaseCount')\n",
        "popular_category_by_age = popular_category_by_age.loc[popular_category_by_age.groupby('AgeGroup')['PurchaseCount'].idxmax()]\n",
        "print(\"\\nMost Popular Product Category by Age Group:\\n\", popular_category_by_age)"
      ]
    },
    {
      "cell_type": "markdown",
      "source": [],
      "metadata": {
        "id": "F6wXghZxgxMQ"
      }
    },
    {
      "cell_type": "code",
      "execution_count": 72,
      "metadata": {
        "id": "WXaBZSEeUh19",
        "outputId": "e9575943-0025-4532-d377-785c7f681826",
        "colab": {
          "base_uri": "https://localhost:8080/"
        }
      },
      "outputs": [
        {
          "output_type": "stream",
          "name": "stderr",
          "text": [
            "<ipython-input-72-ae01907690e8>:2: FutureWarning: The default of observed=False is deprecated and will be changed to True in a future version of pandas. Pass observed=False to retain current behavior or observed=True to adopt the future default and silence this warning.\n",
            "  avg_spend_per_purchase = clean_df.groupby('CustomerValue')['TotalAmount'].mean().reset_index()\n"
          ]
        }
      ],
      "source": [
        "# 2. Average spend per purchase by income level\n",
        "avg_spend_per_purchase = clean_df.groupby('CustomerValue')['TotalAmount'].mean().reset_index()\n",
        "avg_spend_per_purchase.columns = ['CustomerValue', 'AvgSpendPerPurchase']"
      ]
    },
    {
      "cell_type": "code",
      "execution_count": 76,
      "metadata": {
        "id": "skOPiugTUh19",
        "outputId": "841d1c4d-062a-4a64-b302-11c0750556bd",
        "colab": {
          "base_uri": "https://localhost:8080/"
        }
      },
      "outputs": [
        {
          "output_type": "stream",
          "name": "stdout",
          "text": [
            "\n",
            "Spending Patterns by Gender and Product Category:\n",
            "     Gender      Category  TotalAmount\n",
            "0   Female         Books      1220.00\n",
            "1   Female   Electronics      1899.37\n",
            "2   Female     Furniture       899.99\n",
            "3   Female        Health       534.99\n",
            "4   Female          Home       749.93\n",
            "5   Female          Pets       175.00\n",
            "6   Female  Professional       975.00\n",
            "7   Female      Services       698.00\n",
            "8   Female      Software       274.99\n",
            "9   Female        Sports       156.00\n",
            "10    Male   Accessories       350.00\n",
            "11    Male         Books       991.50\n",
            "12    Male      Clothing       599.99\n",
            "13    Male   Electronics      4697.90\n",
            "14    Male     Furniture      2497.99\n",
            "15    Male        Health       219.95\n",
            "16    Male          Home       549.45\n",
            "17    Male        Office       125.00\n",
            "18    Male      Services       848.00\n",
            "19    Male      Software      2277.99\n",
            "20    Male        Sports       399.99\n",
            "21    Male        Travel       399.00\n"
          ]
        }
      ],
      "source": [
        "# 3. Spending patterns by gender across product categories\n",
        "spending_patterns_by_gender = clean_df.groupby(['Gender', 'Category'])['TotalAmount'].sum().reset_index()\n",
        "print(\"\\nSpending Patterns by Gender and Product Category:\\n\", spending_patterns_by_gender)"
      ]
    },
    {
      "cell_type": "code",
      "execution_count": 79,
      "metadata": {
        "id": "ad5z0bqeUh19",
        "outputId": "fa937931-0be6-423a-8fc6-07e7def84501",
        "colab": {
          "base_uri": "https://localhost:8080/"
        }
      },
      "outputs": [
        {
          "output_type": "stream",
          "name": "stdout",
          "text": [
            "\n",
            "Regions with Highest Average Purchase Amounts:\n",
            "     Region  AvgPurchaseAmount\n",
            "1     East         495.245000\n",
            "3    South         466.770000\n",
            "0  Central         378.613333\n",
            "2    North         277.048889\n",
            "4     West         216.216364\n"
          ]
        }
      ],
      "source": [
        "# 4. Regions with highest average purchase amounts\n",
        "avg_purchase_amount_by_region = clean_df.groupby('Region')['TotalAmount'].mean().reset_index()\n",
        "avg_purchase_amount_by_region.columns = ['Region', 'AvgPurchaseAmount']\n",
        "avg_purchase_amount_by_region = avg_purchase_amount_by_region.sort_values(by='AvgPurchaseAmount', ascending=False)\n",
        "print(\"\\nRegions with Highest Average Purchase Amounts:\\n\", avg_purchase_amount_by_region)"
      ]
    },
    {
      "cell_type": "markdown",
      "metadata": {
        "id": "tztvewuLUh19"
      },
      "source": [
        "## Summary\n",
        "\n",
        "In this assignment, you've practiced various techniques for indexing, selecting, and filtering data in Pandas, as well as identifying and handling missing values. These skills are essential for any data analysis project and form the foundation for more advanced data manipulation operations.\n",
        "\n",
        "Summarize what you've learned from this assignment and how you might apply these techniques in future data analysis tasks."
      ]
    },
    {
      "cell_type": "markdown",
      "metadata": {
        "id": "5vsM47BTUh1-"
      },
      "source": [
        "*Your summary here*"
      ]
    }
  ],
  "metadata": {
    "kernelspec": {
      "display_name": "Python 3",
      "language": "python",
      "name": "python3"
    },
    "language_info": {
      "codemirror_mode": {
        "name": "ipython",
        "version": 3
      },
      "file_extension": ".py",
      "mimetype": "text/x-python",
      "name": "python",
      "nbconvert_exporter": "python",
      "pygments_lexer": "ipython3",
      "version": "3.8.10"
    },
    "colab": {
      "provenance": []
    }
  },
  "nbformat": 4,
  "nbformat_minor": 0
}